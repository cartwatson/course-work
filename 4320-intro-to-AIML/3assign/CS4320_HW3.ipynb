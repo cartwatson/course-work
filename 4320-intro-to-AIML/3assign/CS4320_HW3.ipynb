{
  "cells": [
    {
      "cell_type": "markdown",
      "metadata": {
        "id": "987cEYEfDflg"
      },
      "source": [
        "# CS4320 - Introduction to Machine Learning \n",
        "\n",
        "## Homework 3: Preprocessing "
      ]
    },
    {
      "cell_type": "markdown",
      "metadata": {
        "id": "6eA1FspCF7p7"
      },
      "source": [
        "**Please type your name and A number here:**"
      ]
    },
    {
      "cell_type": "code",
      "execution_count": 58,
      "metadata": {
        "id": "qp9zRvYvF5Ak"
      },
      "outputs": [],
      "source": [
        "Name = \"Carter Watson\"\n",
        "assert Name != \"\", 'Please enter your name in the above quotation marks, thanks!'\n",
        "\n",
        "A_number = \"A02312565\"\n",
        "assert A_number != \"\", 'Please enter your A-number in the above quotation marks, thanks!'\n",
        "\n",
        "credit = \"https://chat.openai.com/share/b7324c74-9ad7-4e91-863d-fd7435e0e972\"\n",
        "assert credit != \"\", 'Please enter your link to chatgpt conversation in the above quotation marks, thanks!'"
      ]
    },
    {
      "cell_type": "markdown",
      "metadata": {
        "id": "CAIVbbCzDfli"
      },
      "source": [
        "## Imports "
      ]
    },
    {
      "cell_type": "code",
      "execution_count": 59,
      "metadata": {
        "id": "sGHZVwptDflj"
      },
      "outputs": [],
      "source": [
        "import matplotlib.pyplot as plt\n",
        "import numpy as np\n",
        "import pandas as pd\n",
        "from sklearn.compose import ColumnTransformer, make_column_transformer\n",
        "from sklearn.dummy import DummyClassifier\n",
        "from sklearn.impute import SimpleImputer\n",
        "from sklearn.model_selection import cross_val_score, cross_validate, train_test_split\n",
        "from sklearn.neighbors import KNeighborsClassifier\n",
        "from sklearn.pipeline import Pipeline, make_pipeline\n",
        "from sklearn.preprocessing import OneHotEncoder, StandardScaler, OrdinalEncoder\n",
        "from sklearn.svm import SVC\n",
        "from sklearn.tree import DecisionTreeClassifier"
      ]
    },
    {
      "cell_type": "markdown",
      "metadata": {
        "id": "ObCtynnVDfll"
      },
      "source": [
        "## Exercise 1: Introducing the dataset <a name=\"1\"></a>\n",
        "<hr>\n",
        "\n",
        "In this lab, you will be working on [the adult census dataset](https://www.kaggle.com/uciml/adult-census-income#). Download the CSV and save it as `adult.csv` locally in this homework folder. \n",
        "\n",
        "This is a classification dataset and the classification task is to predict whether income exceeds 50K per year or not based on the census data. You can find more information on the dataset and features [here](http://archive.ics.uci.edu/ml/datasets/Adult).\n",
        "\n",
        "The starter code below loads the data CSV (assuming that it is saved as `adult.csv` in this folder). \n",
        "\n",
        "_Note that many popular datasets have sex as a feature where the possible values are male and female. This representation reflects how the data were collected and is not meant to imply that, for example, gender is binary._"
      ]
    },
    {
      "cell_type": "code",
      "execution_count": 60,
      "metadata": {
        "colab": {
          "base_uri": "https://localhost:8080/"
        },
        "id": "SFhfYaz1Dfll",
        "outputId": "2fdb1607-4006-4b2c-bb06-0ab1c1af8c79"
      },
      "outputs": [
        {
          "data": {
            "text/plain": [
              "(32561, 15)"
            ]
          },
          "execution_count": 60,
          "metadata": {},
          "output_type": "execute_result"
        }
      ],
      "source": [
        "census_df = pd.read_csv(\"adult.csv\")\n",
        "census_df.shape"
      ]
    },
    {
      "cell_type": "markdown",
      "metadata": {
        "id": "467osGJtDflm"
      },
      "source": [
        "### 1. Data splitting\n",
        "rubric={points:4}\n",
        "\n",
        "In order to avoid violation of the golden rule, the first step before we do anything is splitting the data. \n",
        "\n",
        "**Your tasks:**\n",
        "\n",
        "  Split the data into `train_df` (50%) and `test_df` (50%) with `random_state = 10`. Keep the target column (`income`) in the splits so that we can use it in the exploratory data analysis.\n",
        "\n",
        "(_Usually having more data for training is a good idea. But here I'm using 50%/50% split because this is kind of a big dataset for a modest laptop. A smaller training data means it won't take too long to train the model on your laptop. A side advantage of this would be that with a bigger test split, we'll have a more reliable estimate of the deployment performance!_)"
      ]
    },
    {
      "cell_type": "code",
      "execution_count": 61,
      "metadata": {
        "id": "xVYJ0r2CDflm"
      },
      "outputs": [
        {
          "data": {
            "text/plain": [
              "((16280, 15), (16281, 15))"
            ]
          },
          "execution_count": 61,
          "metadata": {},
          "output_type": "execute_result"
        }
      ],
      "source": [
        "# Splitting the data\n",
        "train_df, test_df = train_test_split(census_df, test_size=0.5, random_state=10)\n",
        "\n",
        "# Display the shapes of the training and testing datasets\n",
        "train_df.shape, test_df.shape"
      ]
    },
    {
      "cell_type": "markdown",
      "metadata": {
        "id": "rIAvCSxdDfln"
      },
      "source": [
        "## Exercise 2: Exploratory data analysis (EDA) <a name=\"2\"></a> \n",
        "<hr>"
      ]
    },
    {
      "cell_type": "markdown",
      "metadata": {
        "id": "t8D25Gr1Dfln"
      },
      "source": [
        "Let's examine our `train_df`. "
      ]
    },
    {
      "cell_type": "code",
      "execution_count": 62,
      "metadata": {
        "id": "tlw11UnBDfln"
      },
      "outputs": [
        {
          "data": {
            "text/html": [
              "<div>\n",
              "<style scoped>\n",
              "    .dataframe tbody tr th:only-of-type {\n",
              "        vertical-align: middle;\n",
              "    }\n",
              "\n",
              "    .dataframe tbody tr th {\n",
              "        vertical-align: top;\n",
              "    }\n",
              "\n",
              "    .dataframe thead th {\n",
              "        text-align: right;\n",
              "    }\n",
              "</style>\n",
              "<table border=\"1\" class=\"dataframe\">\n",
              "  <thead>\n",
              "    <tr style=\"text-align: right;\">\n",
              "      <th></th>\n",
              "      <th>age</th>\n",
              "      <th>workclass</th>\n",
              "      <th>fnlwgt</th>\n",
              "      <th>education</th>\n",
              "      <th>education.num</th>\n",
              "      <th>marital.status</th>\n",
              "      <th>occupation</th>\n",
              "      <th>relationship</th>\n",
              "      <th>race</th>\n",
              "      <th>sex</th>\n",
              "      <th>capital.gain</th>\n",
              "      <th>capital.loss</th>\n",
              "      <th>hours.per.week</th>\n",
              "      <th>native.country</th>\n",
              "      <th>income</th>\n",
              "    </tr>\n",
              "  </thead>\n",
              "  <tbody>\n",
              "    <tr>\n",
              "      <th>1</th>\n",
              "      <td>82</td>\n",
              "      <td>Private</td>\n",
              "      <td>132870</td>\n",
              "      <td>HS-grad</td>\n",
              "      <td>9</td>\n",
              "      <td>Widowed</td>\n",
              "      <td>Exec-managerial</td>\n",
              "      <td>Not-in-family</td>\n",
              "      <td>White</td>\n",
              "      <td>Female</td>\n",
              "      <td>0</td>\n",
              "      <td>4356</td>\n",
              "      <td>18</td>\n",
              "      <td>United-States</td>\n",
              "      <td>&lt;=50K</td>\n",
              "    </tr>\n",
              "    <tr>\n",
              "      <th>2</th>\n",
              "      <td>66</td>\n",
              "      <td>?</td>\n",
              "      <td>186061</td>\n",
              "      <td>Some-college</td>\n",
              "      <td>10</td>\n",
              "      <td>Widowed</td>\n",
              "      <td>?</td>\n",
              "      <td>Unmarried</td>\n",
              "      <td>Black</td>\n",
              "      <td>Female</td>\n",
              "      <td>0</td>\n",
              "      <td>4356</td>\n",
              "      <td>40</td>\n",
              "      <td>United-States</td>\n",
              "      <td>&lt;=50K</td>\n",
              "    </tr>\n",
              "    <tr>\n",
              "      <th>3</th>\n",
              "      <td>54</td>\n",
              "      <td>Private</td>\n",
              "      <td>140359</td>\n",
              "      <td>7th-8th</td>\n",
              "      <td>4</td>\n",
              "      <td>Divorced</td>\n",
              "      <td>Machine-op-inspct</td>\n",
              "      <td>Unmarried</td>\n",
              "      <td>White</td>\n",
              "      <td>Female</td>\n",
              "      <td>0</td>\n",
              "      <td>3900</td>\n",
              "      <td>40</td>\n",
              "      <td>United-States</td>\n",
              "      <td>&lt;=50K</td>\n",
              "    </tr>\n",
              "    <tr>\n",
              "      <th>4</th>\n",
              "      <td>41</td>\n",
              "      <td>Private</td>\n",
              "      <td>264663</td>\n",
              "      <td>Some-college</td>\n",
              "      <td>10</td>\n",
              "      <td>Separated</td>\n",
              "      <td>Prof-specialty</td>\n",
              "      <td>Own-child</td>\n",
              "      <td>White</td>\n",
              "      <td>Female</td>\n",
              "      <td>0</td>\n",
              "      <td>3900</td>\n",
              "      <td>40</td>\n",
              "      <td>United-States</td>\n",
              "      <td>&lt;=50K</td>\n",
              "    </tr>\n",
              "    <tr>\n",
              "      <th>6</th>\n",
              "      <td>38</td>\n",
              "      <td>Private</td>\n",
              "      <td>150601</td>\n",
              "      <td>10th</td>\n",
              "      <td>6</td>\n",
              "      <td>Separated</td>\n",
              "      <td>Adm-clerical</td>\n",
              "      <td>Unmarried</td>\n",
              "      <td>White</td>\n",
              "      <td>Male</td>\n",
              "      <td>0</td>\n",
              "      <td>3770</td>\n",
              "      <td>40</td>\n",
              "      <td>United-States</td>\n",
              "      <td>&lt;=50K</td>\n",
              "    </tr>\n",
              "    <tr>\n",
              "      <th>...</th>\n",
              "      <td>...</td>\n",
              "      <td>...</td>\n",
              "      <td>...</td>\n",
              "      <td>...</td>\n",
              "      <td>...</td>\n",
              "      <td>...</td>\n",
              "      <td>...</td>\n",
              "      <td>...</td>\n",
              "      <td>...</td>\n",
              "      <td>...</td>\n",
              "      <td>...</td>\n",
              "      <td>...</td>\n",
              "      <td>...</td>\n",
              "      <td>...</td>\n",
              "      <td>...</td>\n",
              "    </tr>\n",
              "    <tr>\n",
              "      <th>32544</th>\n",
              "      <td>72</td>\n",
              "      <td>?</td>\n",
              "      <td>129912</td>\n",
              "      <td>HS-grad</td>\n",
              "      <td>9</td>\n",
              "      <td>Married-civ-spouse</td>\n",
              "      <td>?</td>\n",
              "      <td>Husband</td>\n",
              "      <td>White</td>\n",
              "      <td>Male</td>\n",
              "      <td>0</td>\n",
              "      <td>0</td>\n",
              "      <td>25</td>\n",
              "      <td>United-States</td>\n",
              "      <td>&lt;=50K</td>\n",
              "    </tr>\n",
              "    <tr>\n",
              "      <th>32545</th>\n",
              "      <td>45</td>\n",
              "      <td>Local-gov</td>\n",
              "      <td>119199</td>\n",
              "      <td>Assoc-acdm</td>\n",
              "      <td>12</td>\n",
              "      <td>Divorced</td>\n",
              "      <td>Prof-specialty</td>\n",
              "      <td>Unmarried</td>\n",
              "      <td>White</td>\n",
              "      <td>Female</td>\n",
              "      <td>0</td>\n",
              "      <td>0</td>\n",
              "      <td>48</td>\n",
              "      <td>United-States</td>\n",
              "      <td>&lt;=50K</td>\n",
              "    </tr>\n",
              "    <tr>\n",
              "      <th>32547</th>\n",
              "      <td>39</td>\n",
              "      <td>Local-gov</td>\n",
              "      <td>111499</td>\n",
              "      <td>Assoc-acdm</td>\n",
              "      <td>12</td>\n",
              "      <td>Married-civ-spouse</td>\n",
              "      <td>Adm-clerical</td>\n",
              "      <td>Wife</td>\n",
              "      <td>White</td>\n",
              "      <td>Female</td>\n",
              "      <td>0</td>\n",
              "      <td>0</td>\n",
              "      <td>20</td>\n",
              "      <td>United-States</td>\n",
              "      <td>&gt;50K</td>\n",
              "    </tr>\n",
              "    <tr>\n",
              "      <th>32551</th>\n",
              "      <td>43</td>\n",
              "      <td>Self-emp-not-inc</td>\n",
              "      <td>27242</td>\n",
              "      <td>Some-college</td>\n",
              "      <td>10</td>\n",
              "      <td>Married-civ-spouse</td>\n",
              "      <td>Craft-repair</td>\n",
              "      <td>Husband</td>\n",
              "      <td>White</td>\n",
              "      <td>Male</td>\n",
              "      <td>0</td>\n",
              "      <td>0</td>\n",
              "      <td>50</td>\n",
              "      <td>United-States</td>\n",
              "      <td>&lt;=50K</td>\n",
              "    </tr>\n",
              "    <tr>\n",
              "      <th>32554</th>\n",
              "      <td>32</td>\n",
              "      <td>Private</td>\n",
              "      <td>116138</td>\n",
              "      <td>Masters</td>\n",
              "      <td>14</td>\n",
              "      <td>Never-married</td>\n",
              "      <td>Tech-support</td>\n",
              "      <td>Not-in-family</td>\n",
              "      <td>Asian-Pac-Islander</td>\n",
              "      <td>Male</td>\n",
              "      <td>0</td>\n",
              "      <td>0</td>\n",
              "      <td>11</td>\n",
              "      <td>Taiwan</td>\n",
              "      <td>&lt;=50K</td>\n",
              "    </tr>\n",
              "  </tbody>\n",
              "</table>\n",
              "<p>16280 rows × 15 columns</p>\n",
              "</div>"
            ],
            "text/plain": [
              "       age         workclass  fnlwgt     education  education.num  \\\n",
              "1       82           Private  132870       HS-grad              9   \n",
              "2       66                 ?  186061  Some-college             10   \n",
              "3       54           Private  140359       7th-8th              4   \n",
              "4       41           Private  264663  Some-college             10   \n",
              "6       38           Private  150601          10th              6   \n",
              "...    ...               ...     ...           ...            ...   \n",
              "32544   72                 ?  129912       HS-grad              9   \n",
              "32545   45         Local-gov  119199    Assoc-acdm             12   \n",
              "32547   39         Local-gov  111499    Assoc-acdm             12   \n",
              "32551   43  Self-emp-not-inc   27242  Some-college             10   \n",
              "32554   32           Private  116138       Masters             14   \n",
              "\n",
              "           marital.status         occupation   relationship  \\\n",
              "1                 Widowed    Exec-managerial  Not-in-family   \n",
              "2                 Widowed                  ?      Unmarried   \n",
              "3                Divorced  Machine-op-inspct      Unmarried   \n",
              "4               Separated     Prof-specialty      Own-child   \n",
              "6               Separated       Adm-clerical      Unmarried   \n",
              "...                   ...                ...            ...   \n",
              "32544  Married-civ-spouse                  ?        Husband   \n",
              "32545            Divorced     Prof-specialty      Unmarried   \n",
              "32547  Married-civ-spouse       Adm-clerical           Wife   \n",
              "32551  Married-civ-spouse       Craft-repair        Husband   \n",
              "32554       Never-married       Tech-support  Not-in-family   \n",
              "\n",
              "                     race     sex  capital.gain  capital.loss  hours.per.week  \\\n",
              "1                   White  Female             0          4356              18   \n",
              "2                   Black  Female             0          4356              40   \n",
              "3                   White  Female             0          3900              40   \n",
              "4                   White  Female             0          3900              40   \n",
              "6                   White    Male             0          3770              40   \n",
              "...                   ...     ...           ...           ...             ...   \n",
              "32544               White    Male             0             0              25   \n",
              "32545               White  Female             0             0              48   \n",
              "32547               White  Female             0             0              20   \n",
              "32551               White    Male             0             0              50   \n",
              "32554  Asian-Pac-Islander    Male             0             0              11   \n",
              "\n",
              "      native.country income  \n",
              "1      United-States  <=50K  \n",
              "2      United-States  <=50K  \n",
              "3      United-States  <=50K  \n",
              "4      United-States  <=50K  \n",
              "6      United-States  <=50K  \n",
              "...              ...    ...  \n",
              "32544  United-States  <=50K  \n",
              "32545  United-States  <=50K  \n",
              "32547  United-States   >50K  \n",
              "32551  United-States  <=50K  \n",
              "32554         Taiwan  <=50K  \n",
              "\n",
              "[16280 rows x 15 columns]"
            ]
          },
          "execution_count": 62,
          "metadata": {},
          "output_type": "execute_result"
        }
      ],
      "source": [
        "train_df.sort_index()"
      ]
    },
    {
      "cell_type": "markdown",
      "metadata": {
        "id": "DQngHGTFDfln"
      },
      "source": [
        "We see some missing values represented with a \"?\". Probably these were the questions not answered by some people during the census.  Usually `.describe()` or `.info()` methods would give you information on missing values. But here, they won't pick \"?\" as missing values as they are encoded as strings instead of an actual NaN in Python. So let's replace them with `np.nan` before we carry out EDA. If you do not do it, you'll encounter an error later on when you try to pass this data to a classifier. "
      ]
    },
    {
      "cell_type": "code",
      "execution_count": 63,
      "metadata": {
        "colab": {
          "base_uri": "https://localhost:8080/"
        },
        "id": "O0ipQjwcDfln",
        "outputId": "c2afe1d8-07f5-45c3-cc05-3b30823ed31c"
      },
      "outputs": [
        {
          "data": {
            "text/plain": [
              "(16280, 15)"
            ]
          },
          "execution_count": 63,
          "metadata": {},
          "output_type": "execute_result"
        }
      ],
      "source": [
        "train_df_nan = train_df.replace(\"?\", np.nan)\n",
        "test_df_nan = test_df.replace(\"?\", np.nan)\n",
        "train_df_nan.shape"
      ]
    },
    {
      "cell_type": "code",
      "execution_count": 64,
      "metadata": {
        "id": "r4VaOJj3Dflo"
      },
      "outputs": [
        {
          "data": {
            "text/html": [
              "<div>\n",
              "<style scoped>\n",
              "    .dataframe tbody tr th:only-of-type {\n",
              "        vertical-align: middle;\n",
              "    }\n",
              "\n",
              "    .dataframe tbody tr th {\n",
              "        vertical-align: top;\n",
              "    }\n",
              "\n",
              "    .dataframe thead th {\n",
              "        text-align: right;\n",
              "    }\n",
              "</style>\n",
              "<table border=\"1\" class=\"dataframe\">\n",
              "  <thead>\n",
              "    <tr style=\"text-align: right;\">\n",
              "      <th></th>\n",
              "      <th>age</th>\n",
              "      <th>workclass</th>\n",
              "      <th>fnlwgt</th>\n",
              "      <th>education</th>\n",
              "      <th>education.num</th>\n",
              "      <th>marital.status</th>\n",
              "      <th>occupation</th>\n",
              "      <th>relationship</th>\n",
              "      <th>race</th>\n",
              "      <th>sex</th>\n",
              "      <th>capital.gain</th>\n",
              "      <th>capital.loss</th>\n",
              "      <th>hours.per.week</th>\n",
              "      <th>native.country</th>\n",
              "      <th>income</th>\n",
              "    </tr>\n",
              "  </thead>\n",
              "  <tbody>\n",
              "    <tr>\n",
              "      <th>1</th>\n",
              "      <td>82</td>\n",
              "      <td>Private</td>\n",
              "      <td>132870</td>\n",
              "      <td>HS-grad</td>\n",
              "      <td>9</td>\n",
              "      <td>Widowed</td>\n",
              "      <td>Exec-managerial</td>\n",
              "      <td>Not-in-family</td>\n",
              "      <td>White</td>\n",
              "      <td>Female</td>\n",
              "      <td>0</td>\n",
              "      <td>4356</td>\n",
              "      <td>18</td>\n",
              "      <td>United-States</td>\n",
              "      <td>&lt;=50K</td>\n",
              "    </tr>\n",
              "    <tr>\n",
              "      <th>2</th>\n",
              "      <td>66</td>\n",
              "      <td>NaN</td>\n",
              "      <td>186061</td>\n",
              "      <td>Some-college</td>\n",
              "      <td>10</td>\n",
              "      <td>Widowed</td>\n",
              "      <td>NaN</td>\n",
              "      <td>Unmarried</td>\n",
              "      <td>Black</td>\n",
              "      <td>Female</td>\n",
              "      <td>0</td>\n",
              "      <td>4356</td>\n",
              "      <td>40</td>\n",
              "      <td>United-States</td>\n",
              "      <td>&lt;=50K</td>\n",
              "    </tr>\n",
              "    <tr>\n",
              "      <th>3</th>\n",
              "      <td>54</td>\n",
              "      <td>Private</td>\n",
              "      <td>140359</td>\n",
              "      <td>7th-8th</td>\n",
              "      <td>4</td>\n",
              "      <td>Divorced</td>\n",
              "      <td>Machine-op-inspct</td>\n",
              "      <td>Unmarried</td>\n",
              "      <td>White</td>\n",
              "      <td>Female</td>\n",
              "      <td>0</td>\n",
              "      <td>3900</td>\n",
              "      <td>40</td>\n",
              "      <td>United-States</td>\n",
              "      <td>&lt;=50K</td>\n",
              "    </tr>\n",
              "    <tr>\n",
              "      <th>4</th>\n",
              "      <td>41</td>\n",
              "      <td>Private</td>\n",
              "      <td>264663</td>\n",
              "      <td>Some-college</td>\n",
              "      <td>10</td>\n",
              "      <td>Separated</td>\n",
              "      <td>Prof-specialty</td>\n",
              "      <td>Own-child</td>\n",
              "      <td>White</td>\n",
              "      <td>Female</td>\n",
              "      <td>0</td>\n",
              "      <td>3900</td>\n",
              "      <td>40</td>\n",
              "      <td>United-States</td>\n",
              "      <td>&lt;=50K</td>\n",
              "    </tr>\n",
              "    <tr>\n",
              "      <th>6</th>\n",
              "      <td>38</td>\n",
              "      <td>Private</td>\n",
              "      <td>150601</td>\n",
              "      <td>10th</td>\n",
              "      <td>6</td>\n",
              "      <td>Separated</td>\n",
              "      <td>Adm-clerical</td>\n",
              "      <td>Unmarried</td>\n",
              "      <td>White</td>\n",
              "      <td>Male</td>\n",
              "      <td>0</td>\n",
              "      <td>3770</td>\n",
              "      <td>40</td>\n",
              "      <td>United-States</td>\n",
              "      <td>&lt;=50K</td>\n",
              "    </tr>\n",
              "    <tr>\n",
              "      <th>...</th>\n",
              "      <td>...</td>\n",
              "      <td>...</td>\n",
              "      <td>...</td>\n",
              "      <td>...</td>\n",
              "      <td>...</td>\n",
              "      <td>...</td>\n",
              "      <td>...</td>\n",
              "      <td>...</td>\n",
              "      <td>...</td>\n",
              "      <td>...</td>\n",
              "      <td>...</td>\n",
              "      <td>...</td>\n",
              "      <td>...</td>\n",
              "      <td>...</td>\n",
              "      <td>...</td>\n",
              "    </tr>\n",
              "    <tr>\n",
              "      <th>32544</th>\n",
              "      <td>72</td>\n",
              "      <td>NaN</td>\n",
              "      <td>129912</td>\n",
              "      <td>HS-grad</td>\n",
              "      <td>9</td>\n",
              "      <td>Married-civ-spouse</td>\n",
              "      <td>NaN</td>\n",
              "      <td>Husband</td>\n",
              "      <td>White</td>\n",
              "      <td>Male</td>\n",
              "      <td>0</td>\n",
              "      <td>0</td>\n",
              "      <td>25</td>\n",
              "      <td>United-States</td>\n",
              "      <td>&lt;=50K</td>\n",
              "    </tr>\n",
              "    <tr>\n",
              "      <th>32545</th>\n",
              "      <td>45</td>\n",
              "      <td>Local-gov</td>\n",
              "      <td>119199</td>\n",
              "      <td>Assoc-acdm</td>\n",
              "      <td>12</td>\n",
              "      <td>Divorced</td>\n",
              "      <td>Prof-specialty</td>\n",
              "      <td>Unmarried</td>\n",
              "      <td>White</td>\n",
              "      <td>Female</td>\n",
              "      <td>0</td>\n",
              "      <td>0</td>\n",
              "      <td>48</td>\n",
              "      <td>United-States</td>\n",
              "      <td>&lt;=50K</td>\n",
              "    </tr>\n",
              "    <tr>\n",
              "      <th>32547</th>\n",
              "      <td>39</td>\n",
              "      <td>Local-gov</td>\n",
              "      <td>111499</td>\n",
              "      <td>Assoc-acdm</td>\n",
              "      <td>12</td>\n",
              "      <td>Married-civ-spouse</td>\n",
              "      <td>Adm-clerical</td>\n",
              "      <td>Wife</td>\n",
              "      <td>White</td>\n",
              "      <td>Female</td>\n",
              "      <td>0</td>\n",
              "      <td>0</td>\n",
              "      <td>20</td>\n",
              "      <td>United-States</td>\n",
              "      <td>&gt;50K</td>\n",
              "    </tr>\n",
              "    <tr>\n",
              "      <th>32551</th>\n",
              "      <td>43</td>\n",
              "      <td>Self-emp-not-inc</td>\n",
              "      <td>27242</td>\n",
              "      <td>Some-college</td>\n",
              "      <td>10</td>\n",
              "      <td>Married-civ-spouse</td>\n",
              "      <td>Craft-repair</td>\n",
              "      <td>Husband</td>\n",
              "      <td>White</td>\n",
              "      <td>Male</td>\n",
              "      <td>0</td>\n",
              "      <td>0</td>\n",
              "      <td>50</td>\n",
              "      <td>United-States</td>\n",
              "      <td>&lt;=50K</td>\n",
              "    </tr>\n",
              "    <tr>\n",
              "      <th>32554</th>\n",
              "      <td>32</td>\n",
              "      <td>Private</td>\n",
              "      <td>116138</td>\n",
              "      <td>Masters</td>\n",
              "      <td>14</td>\n",
              "      <td>Never-married</td>\n",
              "      <td>Tech-support</td>\n",
              "      <td>Not-in-family</td>\n",
              "      <td>Asian-Pac-Islander</td>\n",
              "      <td>Male</td>\n",
              "      <td>0</td>\n",
              "      <td>0</td>\n",
              "      <td>11</td>\n",
              "      <td>Taiwan</td>\n",
              "      <td>&lt;=50K</td>\n",
              "    </tr>\n",
              "  </tbody>\n",
              "</table>\n",
              "<p>16280 rows × 15 columns</p>\n",
              "</div>"
            ],
            "text/plain": [
              "       age         workclass  fnlwgt     education  education.num  \\\n",
              "1       82           Private  132870       HS-grad              9   \n",
              "2       66               NaN  186061  Some-college             10   \n",
              "3       54           Private  140359       7th-8th              4   \n",
              "4       41           Private  264663  Some-college             10   \n",
              "6       38           Private  150601          10th              6   \n",
              "...    ...               ...     ...           ...            ...   \n",
              "32544   72               NaN  129912       HS-grad              9   \n",
              "32545   45         Local-gov  119199    Assoc-acdm             12   \n",
              "32547   39         Local-gov  111499    Assoc-acdm             12   \n",
              "32551   43  Self-emp-not-inc   27242  Some-college             10   \n",
              "32554   32           Private  116138       Masters             14   \n",
              "\n",
              "           marital.status         occupation   relationship  \\\n",
              "1                 Widowed    Exec-managerial  Not-in-family   \n",
              "2                 Widowed                NaN      Unmarried   \n",
              "3                Divorced  Machine-op-inspct      Unmarried   \n",
              "4               Separated     Prof-specialty      Own-child   \n",
              "6               Separated       Adm-clerical      Unmarried   \n",
              "...                   ...                ...            ...   \n",
              "32544  Married-civ-spouse                NaN        Husband   \n",
              "32545            Divorced     Prof-specialty      Unmarried   \n",
              "32547  Married-civ-spouse       Adm-clerical           Wife   \n",
              "32551  Married-civ-spouse       Craft-repair        Husband   \n",
              "32554       Never-married       Tech-support  Not-in-family   \n",
              "\n",
              "                     race     sex  capital.gain  capital.loss  hours.per.week  \\\n",
              "1                   White  Female             0          4356              18   \n",
              "2                   Black  Female             0          4356              40   \n",
              "3                   White  Female             0          3900              40   \n",
              "4                   White  Female             0          3900              40   \n",
              "6                   White    Male             0          3770              40   \n",
              "...                   ...     ...           ...           ...             ...   \n",
              "32544               White    Male             0             0              25   \n",
              "32545               White  Female             0             0              48   \n",
              "32547               White  Female             0             0              20   \n",
              "32551               White    Male             0             0              50   \n",
              "32554  Asian-Pac-Islander    Male             0             0              11   \n",
              "\n",
              "      native.country income  \n",
              "1      United-States  <=50K  \n",
              "2      United-States  <=50K  \n",
              "3      United-States  <=50K  \n",
              "4      United-States  <=50K  \n",
              "6      United-States  <=50K  \n",
              "...              ...    ...  \n",
              "32544  United-States  <=50K  \n",
              "32545  United-States  <=50K  \n",
              "32547  United-States   >50K  \n",
              "32551  United-States  <=50K  \n",
              "32554         Taiwan  <=50K  \n",
              "\n",
              "[16280 rows x 15 columns]"
            ]
          },
          "execution_count": 64,
          "metadata": {},
          "output_type": "execute_result"
        }
      ],
      "source": [
        "train_df_nan.sort_index() # The \"?\" symbols are now replaced with NaN values. "
      ]
    },
    {
      "cell_type": "markdown",
      "metadata": {
        "id": "vRerBd-8Dflo"
      },
      "source": [
        "### 2.1 Visualizing features\n",
        "rubric={points:10}\n",
        "\n",
        "**Your tasks:**\n",
        "\n",
        "1. Examine the information given by `train_df_nan.info()` and `train_df_nan.describe()` methods. In case of `.describe()`, you can optimally use the `include=\"all\"` argument to show summary statistics of all  features. {points:2}\n",
        "2. Visualize the histograms of numeric features (Hint: use \"df.hist\" to show the distribution of numeric features). {points:4} \n",
        "3. From the visualizations, which features seem relevant for the given prediction task?(You can pick multi-features). {points:4}\n",
        "\n",
        "> Note: (Optional) If you're feeling excited about this you are welcome to use [`pandas_profiling`](https://github.com/pandas-profiling/pandas-profiling) for more elaborate visualization and EDA. "
      ]
    },
    {
      "cell_type": "code",
      "execution_count": 65,
      "metadata": {
        "id": "6S_Ai80dQ8Bc"
      },
      "outputs": [
        {
          "name": "stdout",
          "output_type": "stream",
          "text": [
            "<class 'pandas.core.frame.DataFrame'>\n",
            "Int64Index: 16280 entries, 27978 to 17673\n",
            "Data columns (total 15 columns):\n",
            " #   Column          Non-Null Count  Dtype \n",
            "---  ------          --------------  ----- \n",
            " 0   age             16280 non-null  int64 \n",
            " 1   workclass       15403 non-null  object\n",
            " 2   fnlwgt          16280 non-null  int64 \n",
            " 3   education       16280 non-null  object\n",
            " 4   education.num   16280 non-null  int64 \n",
            " 5   marital.status  16280 non-null  object\n",
            " 6   occupation      15398 non-null  object\n",
            " 7   relationship    16280 non-null  object\n",
            " 8   race            16280 non-null  object\n",
            " 9   sex             16280 non-null  object\n",
            " 10  capital.gain    16280 non-null  int64 \n",
            " 11  capital.loss    16280 non-null  int64 \n",
            " 12  hours.per.week  16280 non-null  int64 \n",
            " 13  native.country  15998 non-null  object\n",
            " 14  income          16280 non-null  object\n",
            "dtypes: int64(6), object(9)\n",
            "memory usage: 2.0+ MB\n",
            "None\n",
            "               age        fnlwgt  education.num  capital.gain  capital.loss  \\\n",
            "count  16280.00000  1.628000e+04   16280.000000  16280.000000  16280.000000   \n",
            "mean      38.55731  1.896666e+05      10.095885   1101.524570     86.944287   \n",
            "std       13.53856  1.047738e+05       2.573179   7518.801962    403.082228   \n",
            "min       17.00000  1.228500e+04       1.000000      0.000000      0.000000   \n",
            "25%       28.00000  1.178330e+05       9.000000      0.000000      0.000000   \n",
            "50%       37.00000  1.780250e+05      10.000000      0.000000      0.000000   \n",
            "75%       48.00000  2.369410e+05      12.000000      0.000000      0.000000   \n",
            "max       90.00000  1.455435e+06      16.000000  99999.000000   4356.000000   \n",
            "\n",
            "       hours.per.week  \n",
            "count    16280.000000  \n",
            "mean        40.569656  \n",
            "std         12.394589  \n",
            "min          1.000000  \n",
            "25%         40.000000  \n",
            "50%         40.000000  \n",
            "75%         45.000000  \n",
            "max         99.000000  \n"
          ]
        }
      ],
      "source": [
        "# Task 1: (Hint: just print the train_df_nan.info and train_df_nan.describe)\n",
        "print(train_df_nan.info())\n",
        "print(train_df_nan.describe())"
      ]
    },
    {
      "cell_type": "code",
      "execution_count": 66,
      "metadata": {
        "id": "Vhe2XuEZRN3s"
      },
      "outputs": [
        {
          "data": {
            "image/png": "[encoded data removed]",
            "text/plain": [
              "<Figure size 1500x1000 with 6 Axes>"
            ]
          },
          "metadata": {},
          "output_type": "display_data"
        }
      ],
      "source": [
        "# Plotting histograms for numeric features\n",
        "train_df.hist(figsize=(15, 10), bins=50, grid=False)\n",
        "plt.tight_layout()\n",
        "plt.show()"
      ]
    },
    {
      "cell_type": "code",
      "execution_count": 67,
      "metadata": {
        "id": "J3yrQMwdRQo8"
      },
      "outputs": [],
      "source": [
        "# Task 3: Pick the features\n",
        "\n",
        "# Answer:\n",
        "# Given the goal of predicting income, the following features seem particularly relevant:\n",
        "# Age: Earning potential often changes with age.\n",
        "# Capital Gain & Capital Loss: Directly related to an individual's financial situation.\n",
        "# Education Number: Higher educational attainment can correlate with higher incomes.\n",
        "# Hours per Week: Part-time vs. full-time work can influence income."
      ]
    },
    {
      "cell_type": "markdown",
      "metadata": {
        "id": "zb9sp_WFDflp"
      },
      "source": [
        "### 2.2 Identify transformations to apply\n",
        "rubric={points:20}\n",
        "\n",
        "**Your tasks:**\n",
        "1. Identify what kind of feature transformations you would apply on each column in the dataset and fill in the table below accordingly. You may decide to apply any transformations on a certain column or entirely drop a column from your model. That's totally fine. We use imputation and One-Hot encoding for feature occupation here. {points: 13} \n",
        "2. Identify different feature types for applying different transformations. In particular, fill in the lists below. {points: 5} \n",
        "3. Is including the `race` feature for predicting income ethically a good idea? Briefly discuss. {points: 2}\n",
        "\n",
        "> Note: This question is a bit open-ended and there is no single correct solution."
      ]
    },
    {
      "cell_type": "markdown",
      "metadata": {
        "id": "ddgvx1tYnBN_"
      },
      "source": [
        "Task 1:\n",
        "Fill in the table with feature transformation techniques. You can drop this column by filling in \"drop\".{points:13}"
      ]
    },
    {
      "cell_type": "markdown",
      "metadata": {
        "id": "AXniOeNTDflp"
      },
      "source": [
        "| Feature          | Transformation                                  | Type         |\n",
        "|------------------|-------------------------------------------------|--------------|\n",
        "| occupation       | imputation, One-Hot Encoding                    | Categorical  |\n",
        "| age              | Possibly binned                                 | Numerical    |\n",
        "| workclass        | One-Hot Encoding (with imputation for `?`)      | Categorical  |\n",
        "| fnlwgt           | Possible drop or normalization                  | Numerical    |\n",
        "| education        | One-Hot Encoding or Ordinal Encoding            | Ordinal      |\n",
        "| education.num    | drop                                            | Numerical    |\n",
        "| marital.status   | One-Hot Encoding                                | Categorical  |\n",
        "| relationship     | One-Hot Encoding                                | Categorical  |\n",
        "| race             | drop                                            | Categorical  |\n",
        "| sex              | drop                                            | Binary       |\n",
        "| capital.gain     | Keep as-is or create net capital change         | Numerical    |\n",
        "| capital.loss     | Keep as-is or create net capital change         | Numerical    |\n",
        "| hours.per.week   | Keep as-is or possibly binned                   | Numerical    |\n",
        "| native.country   | One-Hot Encoding or group by region             | Categorical  |\n"
      ]
    },
    {
      "cell_type": "code",
      "execution_count": 68,
      "metadata": {
        "id": "yV67YMd1Dflp"
      },
      "outputs": [],
      "source": [
        "# Task 2: fill in the lists with feature name.\n",
        "# Example: numeric_features = [\"age\"] \n",
        "# It's OK to keep some of the lists empty or add new lists.{points:5}\n",
        "# Features lists\n",
        "numeric_features = [\"age\", \"fnlwgt\",] \n",
        "categorical_features = [\"occupation\", \"workclass\", \"marital.status\", \"relationship\", \"native.country\"] \n",
        "ordinal_features = [\"education\"] \n",
        "binary_features = [] \n",
        "drop_features = [\"sex\", \"race\", \"education.num\"]  # do not include these features in modeling\n",
        "passthrough_features = [\"capital.gain\", \"capital.loss\", \"hours.per.week\"] # do not apply any transformation\n",
        "\n",
        "target = \"income\""
      ]
    },
    {
      "cell_type": "code",
      "execution_count": 69,
      "metadata": {
        "id": "AaVkfHnjoBFI"
      },
      "outputs": [],
      "source": [
        "# Task 3: Is including the `race` feature for predicting income ethically a good idea? Briefly discuss.{points:2}\n",
        "# No, including race as a feature for predicting income is ethically not a good idea.\n",
        "# Including race would only be a vector through which to introduce bias into the model.\n",
        "# Race may be useful in data analysis in order to find solutions to racial income inequality but it is not a good idea for a model that creates predictions."
      ]
    },
    {
      "cell_type": "markdown",
      "metadata": {
        "id": "OPL0GRDzDflp"
      },
      "source": [
        "### 2.3 Separating feature vectors and targets  \n",
        "rubric={points:6}\n",
        "\n",
        "**Your tasks:**\n",
        "\n",
        "1. Create `X_train`, `y_train`, `X_test`, `y_test` from `train_df_nan` and `test_df_nan`. {points: 4}\n",
        "2. At this point, if you train [`sklearn`'s `SVC`](https://scikit-learn.org/stable/modules/generated/sklearn.svm.SVC.html) model on `X_train` and `y_train` would it work? Why or why not? {points: 2}"
      ]
    },
    {
      "cell_type": "code",
      "execution_count": 70,
      "metadata": {
        "id": "eK_pNHeQsiSO"
      },
      "outputs": [
        {
          "data": {
            "text/plain": [
              "((16280, 14), (16280,), (16281, 14), (16281,))"
            ]
          },
          "execution_count": 70,
          "metadata": {},
          "output_type": "execute_result"
        }
      ],
      "source": [
        "# Task 1 (Split the dataset):\n",
        "# Splitting the data into features and target\n",
        "X_train = train_df.drop(columns='income')\n",
        "y_train = train_df['income']\n",
        "\n",
        "X_test = test_df.drop(columns='income')\n",
        "y_test = test_df['income']\n",
        "\n",
        "X_train.shape, y_train.shape, X_test.shape, y_test.shape\n"
      ]
    },
    {
      "cell_type": "code",
      "execution_count": 71,
      "metadata": {
        "id": "Vh1UP57ronhi"
      },
      "outputs": [],
      "source": [
        "# Task 2: \n",
        "# Answer:\n",
        "# No it would not work because\n",
        "# - the features have not been encoded yet\n",
        "# - there are missing values\n",
        "# - features should be standardized\n",
        "# - there may be too much training to do depending on the hardware"
      ]
    },
    {
      "cell_type": "markdown",
      "metadata": {
        "id": "EiXxwRX0Dflp"
      },
      "source": [
        "## Exercise 3: Preprocessing <a name=\"3\"></a>\n",
        "<hr>"
      ]
    },
    {
      "cell_type": "markdown",
      "metadata": {
        "id": "PiJ9evnwDflq"
      },
      "source": [
        "### 3.1 Preprocessing using `sklearn`'s `ColumnTransformer` and `Pipeline`\n",
        "rubric={points:18}\n",
        "\n",
        "Let's carry out preprocessing using `sklearn`'s `ColumnTransformer` and `Pipeline`. Note that you can define pipelines in two ways: \n",
        "- by using [`Pipeline`](https://scikit-learn.org/stable/modules/generated/sklearn.pipeline.Pipeline.html) and explicitly providing named steps\n",
        "- by using [`make_pipeline`](https://scikit-learn.org/stable/modules/generated/sklearn.pipeline.make_pipeline.html#sklearn.pipeline.make_pipeline), which automatically names the steps in the pipeline with their class names. \n",
        "\n",
        "Similarly you can create a column transformer in two ways:\n",
        "- by using [`ColumnTransformer`](https://scikit-learn.org/stable/modules/generated/sklearn.compose.ColumnTransformer.html)\n",
        "- by using [`make_column_transformer`](https://scikit-learn.org/stable/modules/generated/sklearn.compose.make_column_transformer.html) \n",
        "\n",
        "You may use the method of your choice but `make_pipeline` and `make_column_transformer` are highly recommended.  \n",
        "\n",
        "**Your tasks:**\n",
        "\n",
        "1. Create a column transformer `preprocessor` based on transformations you want to apply on the data from 2.2. {points: 10}\n",
        "2. Transform the data by calling `fit_transform` on the training set. What's the shape of the transformed data? {points: 4} \n",
        "3. Why do we need to use a column transformer in this case? Briefly explain. {points: 4} "
      ]
    },
    {
      "cell_type": "code",
      "execution_count": 72,
      "metadata": {
        "id": "KdZNppszDflq"
      },
      "outputs": [
        {
          "data": {
            "text/html": [
              "<style>#sk-container-id-8 {color: black;}#sk-container-id-8 pre{padding: 0;}#sk-container-id-8 div.sk-toggleable {background-color: white;}#sk-container-id-8 label.sk-toggleable__label {cursor: pointer;display: block;width: 100%;margin-bottom: 0;padding: 0.3em;box-sizing: border-box;text-align: center;}#sk-container-id-8 label.sk-toggleable__label-arrow:before {content: \"▸\";float: left;margin-right: 0.25em;color: #696969;}#sk-container-id-8 label.sk-toggleable__label-arrow:hover:before {color: black;}#sk-container-id-8 div.sk-estimator:hover label.sk-toggleable__label-arrow:before {color: black;}#sk-container-id-8 div.sk-toggleable__content {max-height: 0;max-width: 0;overflow: hidden;text-align: left;background-color: #f0f8ff;}#sk-container-id-8 div.sk-toggleable__content pre {margin: 0.2em;color: black;border-radius: 0.25em;background-color: #f0f8ff;}#sk-container-id-8 input.sk-toggleable__control:checked~div.sk-toggleable__content {max-height: 200px;max-width: 100%;overflow: auto;}#sk-container-id-8 input.sk-toggleable__control:checked~label.sk-toggleable__label-arrow:before {content: \"▾\";}#sk-container-id-8 div.sk-estimator input.sk-toggleable__control:checked~label.sk-toggleable__label {background-color: #d4ebff;}#sk-container-id-8 div.sk-label input.sk-toggleable__control:checked~label.sk-toggleable__label {background-color: #d4ebff;}#sk-container-id-8 input.sk-hidden--visually {border: 0;clip: rect(1px 1px 1px 1px);clip: rect(1px, 1px, 1px, 1px);height: 1px;margin: -1px;overflow: hidden;padding: 0;position: absolute;width: 1px;}#sk-container-id-8 div.sk-estimator {font-family: monospace;background-color: #f0f8ff;border: 1px dotted black;border-radius: 0.25em;box-sizing: border-box;margin-bottom: 0.5em;}#sk-container-id-8 div.sk-estimator:hover {background-color: #d4ebff;}#sk-container-id-8 div.sk-parallel-item::after {content: \"\";width: 100%;border-bottom: 1px solid gray;flex-grow: 1;}#sk-container-id-8 div.sk-label:hover label.sk-toggleable__label {background-color: #d4ebff;}#sk-container-id-8 div.sk-serial::before {content: \"\";position: absolute;border-left: 1px solid gray;box-sizing: border-box;top: 0;bottom: 0;left: 50%;z-index: 0;}#sk-container-id-8 div.sk-serial {display: flex;flex-direction: column;align-items: center;background-color: white;padding-right: 0.2em;padding-left: 0.2em;position: relative;}#sk-container-id-8 div.sk-item {position: relative;z-index: 1;}#sk-container-id-8 div.sk-parallel {display: flex;align-items: stretch;justify-content: center;background-color: white;position: relative;}#sk-container-id-8 div.sk-item::before, #sk-container-id-8 div.sk-parallel-item::before {content: \"\";position: absolute;border-left: 1px solid gray;box-sizing: border-box;top: 0;bottom: 0;left: 50%;z-index: -1;}#sk-container-id-8 div.sk-parallel-item {display: flex;flex-direction: column;z-index: 1;position: relative;background-color: white;}#sk-container-id-8 div.sk-parallel-item:first-child::after {align-self: flex-end;width: 50%;}#sk-container-id-8 div.sk-parallel-item:last-child::after {align-self: flex-start;width: 50%;}#sk-container-id-8 div.sk-parallel-item:only-child::after {width: 0;}#sk-container-id-8 div.sk-dashed-wrapped {border: 1px dashed gray;margin: 0 0.4em 0.5em 0.4em;box-sizing: border-box;padding-bottom: 0.4em;background-color: white;}#sk-container-id-8 div.sk-label label {font-family: monospace;font-weight: bold;display: inline-block;line-height: 1.2em;}#sk-container-id-8 div.sk-label-container {text-align: center;}#sk-container-id-8 div.sk-container {/* jupyter's `normalize.less` sets `[hidden] { display: none; }` but bootstrap.min.css set `[hidden] { display: none !important; }` so we also need the `!important` here to be able to override the default hidden behavior on the sphinx rendered scikit-learn.org. See: https://github.com/scikit-learn/scikit-learn/issues/21755 */display: inline-block !important;position: relative;}#sk-container-id-8 div.sk-text-repr-fallback {display: none;}</style><div id=\"sk-container-id-8\" class=\"sk-top-container\"><div class=\"sk-text-repr-fallback\"><pre>ColumnTransformer(transformers=[(&#x27;pipeline&#x27;,\n",
              "                                 Pipeline(steps=[(&#x27;simpleimputer&#x27;,\n",
              "                                                  SimpleImputer(strategy=&#x27;most_frequent&#x27;)),\n",
              "                                                 (&#x27;onehotencoder&#x27;,\n",
              "                                                  OneHotEncoder(handle_unknown=&#x27;ignore&#x27;))]),\n",
              "                                 [&#x27;workclass&#x27;, &#x27;occupation&#x27;]),\n",
              "                                (&#x27;onehotencoder&#x27;,\n",
              "                                 OneHotEncoder(handle_unknown=&#x27;ignore&#x27;),\n",
              "                                 [&#x27;workclass&#x27;, &#x27;occupation&#x27;, &#x27;education&#x27;,\n",
              "                                  &#x27;marital.status&#x27;, &#x27;relationship&#x27;,\n",
              "                                  &#x27;native.country&#x27;]),\n",
              "                                (&#x27;standardscaler&#x27;, StandardScaler(),\n",
              "                                 [&#x27;age&#x27;, &#x27;capital.gain&#x27;, &#x27;capital.loss&#x27;,\n",
              "                                  &#x27;hours.per.week&#x27;])])</pre><b>In a Jupyter environment, please rerun this cell to show the HTML representation or trust the notebook. <br />On GitHub, the HTML representation is unable to render, please try loading this page with nbviewer.org.</b></div><div class=\"sk-container\" hidden><div class=\"sk-item sk-dashed-wrapped\"><div class=\"sk-label-container\"><div class=\"sk-label sk-toggleable\"><input class=\"sk-toggleable__control sk-hidden--visually\" id=\"sk-estimator-id-65\" type=\"checkbox\" ><label for=\"sk-estimator-id-65\" class=\"sk-toggleable__label sk-toggleable__label-arrow\">ColumnTransformer</label><div class=\"sk-toggleable__content\"><pre>ColumnTransformer(transformers=[(&#x27;pipeline&#x27;,\n",
              "                                 Pipeline(steps=[(&#x27;simpleimputer&#x27;,\n",
              "                                                  SimpleImputer(strategy=&#x27;most_frequent&#x27;)),\n",
              "                                                 (&#x27;onehotencoder&#x27;,\n",
              "                                                  OneHotEncoder(handle_unknown=&#x27;ignore&#x27;))]),\n",
              "                                 [&#x27;workclass&#x27;, &#x27;occupation&#x27;]),\n",
              "                                (&#x27;onehotencoder&#x27;,\n",
              "                                 OneHotEncoder(handle_unknown=&#x27;ignore&#x27;),\n",
              "                                 [&#x27;workclass&#x27;, &#x27;occupation&#x27;, &#x27;education&#x27;,\n",
              "                                  &#x27;marital.status&#x27;, &#x27;relationship&#x27;,\n",
              "                                  &#x27;native.country&#x27;]),\n",
              "                                (&#x27;standardscaler&#x27;, StandardScaler(),\n",
              "                                 [&#x27;age&#x27;, &#x27;capital.gain&#x27;, &#x27;capital.loss&#x27;,\n",
              "                                  &#x27;hours.per.week&#x27;])])</pre></div></div></div><div class=\"sk-parallel\"><div class=\"sk-parallel-item\"><div class=\"sk-item\"><div class=\"sk-label-container\"><div class=\"sk-label sk-toggleable\"><input class=\"sk-toggleable__control sk-hidden--visually\" id=\"sk-estimator-id-66\" type=\"checkbox\" ><label for=\"sk-estimator-id-66\" class=\"sk-toggleable__label sk-toggleable__label-arrow\">pipeline</label><div class=\"sk-toggleable__content\"><pre>[&#x27;workclass&#x27;, &#x27;occupation&#x27;]</pre></div></div></div><div class=\"sk-serial\"><div class=\"sk-item\"><div class=\"sk-serial\"><div class=\"sk-item\"><div class=\"sk-estimator sk-toggleable\"><input class=\"sk-toggleable__control sk-hidden--visually\" id=\"sk-estimator-id-67\" type=\"checkbox\" ><label for=\"sk-estimator-id-67\" class=\"sk-toggleable__label sk-toggleable__label-arrow\">SimpleImputer</label><div class=\"sk-toggleable__content\"><pre>SimpleImputer(strategy=&#x27;most_frequent&#x27;)</pre></div></div></div><div class=\"sk-item\"><div class=\"sk-estimator sk-toggleable\"><input class=\"sk-toggleable__control sk-hidden--visually\" id=\"sk-estimator-id-68\" type=\"checkbox\" ><label for=\"sk-estimator-id-68\" class=\"sk-toggleable__label sk-toggleable__label-arrow\">OneHotEncoder</label><div class=\"sk-toggleable__content\"><pre>OneHotEncoder(handle_unknown=&#x27;ignore&#x27;)</pre></div></div></div></div></div></div></div></div><div class=\"sk-parallel-item\"><div class=\"sk-item\"><div class=\"sk-label-container\"><div class=\"sk-label sk-toggleable\"><input class=\"sk-toggleable__control sk-hidden--visually\" id=\"sk-estimator-id-69\" type=\"checkbox\" ><label for=\"sk-estimator-id-69\" class=\"sk-toggleable__label sk-toggleable__label-arrow\">onehotencoder</label><div class=\"sk-toggleable__content\"><pre>[&#x27;workclass&#x27;, &#x27;occupation&#x27;, &#x27;education&#x27;, &#x27;marital.status&#x27;, &#x27;relationship&#x27;, &#x27;native.country&#x27;]</pre></div></div></div><div class=\"sk-serial\"><div class=\"sk-item\"><div class=\"sk-estimator sk-toggleable\"><input class=\"sk-toggleable__control sk-hidden--visually\" id=\"sk-estimator-id-70\" type=\"checkbox\" ><label for=\"sk-estimator-id-70\" class=\"sk-toggleable__label sk-toggleable__label-arrow\">OneHotEncoder</label><div class=\"sk-toggleable__content\"><pre>OneHotEncoder(handle_unknown=&#x27;ignore&#x27;)</pre></div></div></div></div></div></div><div class=\"sk-parallel-item\"><div class=\"sk-item\"><div class=\"sk-label-container\"><div class=\"sk-label sk-toggleable\"><input class=\"sk-toggleable__control sk-hidden--visually\" id=\"sk-estimator-id-71\" type=\"checkbox\" ><label for=\"sk-estimator-id-71\" class=\"sk-toggleable__label sk-toggleable__label-arrow\">standardscaler</label><div class=\"sk-toggleable__content\"><pre>[&#x27;age&#x27;, &#x27;capital.gain&#x27;, &#x27;capital.loss&#x27;, &#x27;hours.per.week&#x27;]</pre></div></div></div><div class=\"sk-serial\"><div class=\"sk-item\"><div class=\"sk-estimator sk-toggleable\"><input class=\"sk-toggleable__control sk-hidden--visually\" id=\"sk-estimator-id-72\" type=\"checkbox\" ><label for=\"sk-estimator-id-72\" class=\"sk-toggleable__label sk-toggleable__label-arrow\">StandardScaler</label><div class=\"sk-toggleable__content\"><pre>StandardScaler()</pre></div></div></div></div></div></div></div></div></div></div>"
            ],
            "text/plain": [
              "ColumnTransformer(transformers=[('pipeline',\n",
              "                                 Pipeline(steps=[('simpleimputer',\n",
              "                                                  SimpleImputer(strategy='most_frequent')),\n",
              "                                                 ('onehotencoder',\n",
              "                                                  OneHotEncoder(handle_unknown='ignore'))]),\n",
              "                                 ['workclass', 'occupation']),\n",
              "                                ('onehotencoder',\n",
              "                                 OneHotEncoder(handle_unknown='ignore'),\n",
              "                                 ['workclass', 'occupation', 'education',\n",
              "                                  'marital.status', 'relationship',\n",
              "                                  'native.country']),\n",
              "                                ('standardscaler', StandardScaler(),\n",
              "                                 ['age', 'capital.gain', 'capital.loss',\n",
              "                                  'hours.per.week'])])"
            ]
          },
          "execution_count": 72,
          "metadata": {},
          "output_type": "execute_result"
        }
      ],
      "source": [
        "# Task 1:\n",
        "# Define columns for different transformations\n",
        "impute_cols = ['workclass', 'occupation']\n",
        "onehot_cols = ['workclass', 'occupation', 'education', 'marital.status', 'relationship', 'native.country']\n",
        "scale_cols = ['age', 'capital.gain', 'capital.loss', 'hours.per.week']\n",
        "\n",
        "# Create the preprocessor using make_column_transformer\n",
        "preprocessor = make_column_transformer(\n",
        "    (make_pipeline(SimpleImputer(strategy='most_frequent'), OneHotEncoder(handle_unknown='ignore')), impute_cols),\n",
        "    (OneHotEncoder(handle_unknown='ignore'), onehot_cols),\n",
        "    (StandardScaler(), scale_cols),\n",
        ")\n",
        "\n",
        "# Display the preprocessor\n",
        "preprocessor\n"
      ]
    },
    {
      "cell_type": "code",
      "execution_count": 73,
      "metadata": {
        "id": "qdebC8K5Xh6H"
      },
      "outputs": [
        {
          "data": {
            "text/plain": [
              "(16280, 106)"
            ]
          },
          "execution_count": 73,
          "metadata": {},
          "output_type": "execute_result"
        }
      ],
      "source": [
        "# Task 2:\n",
        "# Dropping the columns from X_train\n",
        "X_train_dropped = X_train.drop(columns=['race', 'sex', 'education.num'])\n",
        "\n",
        "# Update the lists of columns for transformations\n",
        "onehot_cols = [col for col in onehot_cols if col not in ['race', 'education']]\n",
        "scale_cols = [col for col in scale_cols if col != 'education.num']\n",
        "\n",
        "# Update the preprocessor to handle the dropped columns\n",
        "preprocessor = make_column_transformer(\n",
        "    (make_pipeline(SimpleImputer(strategy='most_frequent'), OneHotEncoder(handle_unknown='ignore')), impute_cols),\n",
        "    (OneHotEncoder(handle_unknown='ignore'), onehot_cols),\n",
        "    (StandardScaler(), scale_cols)\n",
        ")\n",
        "\n",
        "# Transforming the updated training data\n",
        "X_train_transformed_dropped = preprocessor.fit_transform(X_train_dropped)\n",
        "\n",
        "# Getting the shape of the transformed data\n",
        "X_train_transformed_dropped.shape\n"
      ]
    },
    {
      "cell_type": "code",
      "execution_count": 74,
      "metadata": {
        "id": "Prm9ZygpZjbj"
      },
      "outputs": [],
      "source": [
        "# Task 3:\n",
        "# Answer:\n",
        "# Using a column transformer is essential for datasets with mixed feature types.\n",
        "# It ensures consistent preprocessing across different data subsets, streamlines integration into larger pipelines, and helps avoid potential data leakage.\n",
        "# In essence, it's a vital tool for reliable and efficient data preprocessing."
      ]
    },
    {
      "cell_type": "markdown",
      "metadata": {
        "id": "ZJzKb832Dflq"
      },
      "source": [
        "## Exercise 4: Building models <a name=\"4\"></a>\n",
        "<hr>\n",
        "\n",
        "Now that we have preprocessed features, we are ready to build models. Below, I'm providing the function we used in class which returns mean cross-validation score along with standard deviation for a given model. Feel free to use it to keep track of your results if you like. "
      ]
    },
    {
      "cell_type": "code",
      "execution_count": 75,
      "metadata": {
        "id": "O9ufkaSNDflq"
      },
      "outputs": [],
      "source": [
        "results_dict = {}  # dictionary to store all the results"
      ]
    },
    {
      "cell_type": "code",
      "execution_count": 76,
      "metadata": {
        "id": "6-8Ca9YSDflq"
      },
      "outputs": [],
      "source": [
        "def mean_std_cross_val_scores(model, X_train, y_train, **kwargs):\n",
        "    \"\"\"\n",
        "    Returns mean and std of cross validation\n",
        "\n",
        "    Parameters\n",
        "    ----------\n",
        "    model :\n",
        "        scikit-learn model\n",
        "    X_train : numpy array or pandas DataFrame\n",
        "        X in the training data\n",
        "    y_train :\n",
        "        y in the training data\n",
        "\n",
        "    Returns\n",
        "    ----------\n",
        "        pandas Series with mean scores from cross_validation\n",
        "    \"\"\"\n",
        "\n",
        "    scores = cross_validate(model, X_train, y_train, **kwargs)\n",
        "\n",
        "    mean_scores = pd.DataFrame(scores).mean()\n",
        "    std_scores = pd.DataFrame(scores).std()\n",
        "    out_col = []\n",
        "\n",
        "    for i in range(len(mean_scores)):\n",
        "        out_col.append((f\"%0.3f (+/- %0.3f)\" % (mean_scores[i], std_scores[i])))\n",
        "\n",
        "    return pd.Series(data=out_col, index=mean_scores.index)"
      ]
    },
    {
      "cell_type": "markdown",
      "metadata": {
        "id": "1llmxXzhDflq"
      },
      "source": [
        "### 4.1 Baseline model \n",
        "rubric={points:6}\n",
        "\n",
        "**Your tasks:**\n",
        "1. Define a pipeline with two steps: `preprocessor` from 3.1 and `scikit-learn`'s `DummyClassifier` with `strategy=\"prior\"` as your classifier. {points:3} \n",
        "2. Carry out 5-fold cross-validation with the pipeline. Store the results in `results_dict` above. Display the results as a pandas DataFrame.  {points:3} \n",
        "\n",
        "> You may use the function `mean_std_cross_val_scores` above to carry out cross-validation and storing results. Refer to the class notes if you are unsure about how to use it. "
      ]
    },
    {
      "cell_type": "code",
      "execution_count": 77,
      "metadata": {
        "id": "AjLY7mBAiHgS"
      },
      "outputs": [
        {
          "data": {
            "text/html": [
              "<style>#sk-container-id-9 {color: black;}#sk-container-id-9 pre{padding: 0;}#sk-container-id-9 div.sk-toggleable {background-color: white;}#sk-container-id-9 label.sk-toggleable__label {cursor: pointer;display: block;width: 100%;margin-bottom: 0;padding: 0.3em;box-sizing: border-box;text-align: center;}#sk-container-id-9 label.sk-toggleable__label-arrow:before {content: \"▸\";float: left;margin-right: 0.25em;color: #696969;}#sk-container-id-9 label.sk-toggleable__label-arrow:hover:before {color: black;}#sk-container-id-9 div.sk-estimator:hover label.sk-toggleable__label-arrow:before {color: black;}#sk-container-id-9 div.sk-toggleable__content {max-height: 0;max-width: 0;overflow: hidden;text-align: left;background-color: #f0f8ff;}#sk-container-id-9 div.sk-toggleable__content pre {margin: 0.2em;color: black;border-radius: 0.25em;background-color: #f0f8ff;}#sk-container-id-9 input.sk-toggleable__control:checked~div.sk-toggleable__content {max-height: 200px;max-width: 100%;overflow: auto;}#sk-container-id-9 input.sk-toggleable__control:checked~label.sk-toggleable__label-arrow:before {content: \"▾\";}#sk-container-id-9 div.sk-estimator input.sk-toggleable__control:checked~label.sk-toggleable__label {background-color: #d4ebff;}#sk-container-id-9 div.sk-label input.sk-toggleable__control:checked~label.sk-toggleable__label {background-color: #d4ebff;}#sk-container-id-9 input.sk-hidden--visually {border: 0;clip: rect(1px 1px 1px 1px);clip: rect(1px, 1px, 1px, 1px);height: 1px;margin: -1px;overflow: hidden;padding: 0;position: absolute;width: 1px;}#sk-container-id-9 div.sk-estimator {font-family: monospace;background-color: #f0f8ff;border: 1px dotted black;border-radius: 0.25em;box-sizing: border-box;margin-bottom: 0.5em;}#sk-container-id-9 div.sk-estimator:hover {background-color: #d4ebff;}#sk-container-id-9 div.sk-parallel-item::after {content: \"\";width: 100%;border-bottom: 1px solid gray;flex-grow: 1;}#sk-container-id-9 div.sk-label:hover label.sk-toggleable__label {background-color: #d4ebff;}#sk-container-id-9 div.sk-serial::before {content: \"\";position: absolute;border-left: 1px solid gray;box-sizing: border-box;top: 0;bottom: 0;left: 50%;z-index: 0;}#sk-container-id-9 div.sk-serial {display: flex;flex-direction: column;align-items: center;background-color: white;padding-right: 0.2em;padding-left: 0.2em;position: relative;}#sk-container-id-9 div.sk-item {position: relative;z-index: 1;}#sk-container-id-9 div.sk-parallel {display: flex;align-items: stretch;justify-content: center;background-color: white;position: relative;}#sk-container-id-9 div.sk-item::before, #sk-container-id-9 div.sk-parallel-item::before {content: \"\";position: absolute;border-left: 1px solid gray;box-sizing: border-box;top: 0;bottom: 0;left: 50%;z-index: -1;}#sk-container-id-9 div.sk-parallel-item {display: flex;flex-direction: column;z-index: 1;position: relative;background-color: white;}#sk-container-id-9 div.sk-parallel-item:first-child::after {align-self: flex-end;width: 50%;}#sk-container-id-9 div.sk-parallel-item:last-child::after {align-self: flex-start;width: 50%;}#sk-container-id-9 div.sk-parallel-item:only-child::after {width: 0;}#sk-container-id-9 div.sk-dashed-wrapped {border: 1px dashed gray;margin: 0 0.4em 0.5em 0.4em;box-sizing: border-box;padding-bottom: 0.4em;background-color: white;}#sk-container-id-9 div.sk-label label {font-family: monospace;font-weight: bold;display: inline-block;line-height: 1.2em;}#sk-container-id-9 div.sk-label-container {text-align: center;}#sk-container-id-9 div.sk-container {/* jupyter's `normalize.less` sets `[hidden] { display: none; }` but bootstrap.min.css set `[hidden] { display: none !important; }` so we also need the `!important` here to be able to override the default hidden behavior on the sphinx rendered scikit-learn.org. See: https://github.com/scikit-learn/scikit-learn/issues/21755 */display: inline-block !important;position: relative;}#sk-container-id-9 div.sk-text-repr-fallback {display: none;}</style><div id=\"sk-container-id-9\" class=\"sk-top-container\"><div class=\"sk-text-repr-fallback\"><pre>Pipeline(steps=[(&#x27;columntransformer&#x27;,\n",
              "                 ColumnTransformer(transformers=[(&#x27;pipeline&#x27;,\n",
              "                                                  Pipeline(steps=[(&#x27;simpleimputer&#x27;,\n",
              "                                                                   SimpleImputer(strategy=&#x27;most_frequent&#x27;)),\n",
              "                                                                  (&#x27;onehotencoder&#x27;,\n",
              "                                                                   OneHotEncoder(handle_unknown=&#x27;ignore&#x27;))]),\n",
              "                                                  [&#x27;workclass&#x27;, &#x27;occupation&#x27;]),\n",
              "                                                 (&#x27;onehotencoder&#x27;,\n",
              "                                                  OneHotEncoder(handle_unknown=&#x27;ignore&#x27;),\n",
              "                                                  [&#x27;workclass&#x27;, &#x27;occupation&#x27;,\n",
              "                                                   &#x27;marital.status&#x27;,\n",
              "                                                   &#x27;relationship&#x27;,\n",
              "                                                   &#x27;native.country&#x27;]),\n",
              "                                                 (&#x27;standardscaler&#x27;,\n",
              "                                                  StandardScaler(),\n",
              "                                                  [&#x27;age&#x27;, &#x27;capital.gain&#x27;,\n",
              "                                                   &#x27;capital.loss&#x27;,\n",
              "                                                   &#x27;hours.per.week&#x27;])])),\n",
              "                (&#x27;dummyclassifier&#x27;, DummyClassifier())])</pre><b>In a Jupyter environment, please rerun this cell to show the HTML representation or trust the notebook. <br />On GitHub, the HTML representation is unable to render, please try loading this page with nbviewer.org.</b></div><div class=\"sk-container\" hidden><div class=\"sk-item sk-dashed-wrapped\"><div class=\"sk-label-container\"><div class=\"sk-label sk-toggleable\"><input class=\"sk-toggleable__control sk-hidden--visually\" id=\"sk-estimator-id-73\" type=\"checkbox\" ><label for=\"sk-estimator-id-73\" class=\"sk-toggleable__label sk-toggleable__label-arrow\">Pipeline</label><div class=\"sk-toggleable__content\"><pre>Pipeline(steps=[(&#x27;columntransformer&#x27;,\n",
              "                 ColumnTransformer(transformers=[(&#x27;pipeline&#x27;,\n",
              "                                                  Pipeline(steps=[(&#x27;simpleimputer&#x27;,\n",
              "                                                                   SimpleImputer(strategy=&#x27;most_frequent&#x27;)),\n",
              "                                                                  (&#x27;onehotencoder&#x27;,\n",
              "                                                                   OneHotEncoder(handle_unknown=&#x27;ignore&#x27;))]),\n",
              "                                                  [&#x27;workclass&#x27;, &#x27;occupation&#x27;]),\n",
              "                                                 (&#x27;onehotencoder&#x27;,\n",
              "                                                  OneHotEncoder(handle_unknown=&#x27;ignore&#x27;),\n",
              "                                                  [&#x27;workclass&#x27;, &#x27;occupation&#x27;,\n",
              "                                                   &#x27;marital.status&#x27;,\n",
              "                                                   &#x27;relationship&#x27;,\n",
              "                                                   &#x27;native.country&#x27;]),\n",
              "                                                 (&#x27;standardscaler&#x27;,\n",
              "                                                  StandardScaler(),\n",
              "                                                  [&#x27;age&#x27;, &#x27;capital.gain&#x27;,\n",
              "                                                   &#x27;capital.loss&#x27;,\n",
              "                                                   &#x27;hours.per.week&#x27;])])),\n",
              "                (&#x27;dummyclassifier&#x27;, DummyClassifier())])</pre></div></div></div><div class=\"sk-serial\"><div class=\"sk-item sk-dashed-wrapped\"><div class=\"sk-label-container\"><div class=\"sk-label sk-toggleable\"><input class=\"sk-toggleable__control sk-hidden--visually\" id=\"sk-estimator-id-74\" type=\"checkbox\" ><label for=\"sk-estimator-id-74\" class=\"sk-toggleable__label sk-toggleable__label-arrow\">columntransformer: ColumnTransformer</label><div class=\"sk-toggleable__content\"><pre>ColumnTransformer(transformers=[(&#x27;pipeline&#x27;,\n",
              "                                 Pipeline(steps=[(&#x27;simpleimputer&#x27;,\n",
              "                                                  SimpleImputer(strategy=&#x27;most_frequent&#x27;)),\n",
              "                                                 (&#x27;onehotencoder&#x27;,\n",
              "                                                  OneHotEncoder(handle_unknown=&#x27;ignore&#x27;))]),\n",
              "                                 [&#x27;workclass&#x27;, &#x27;occupation&#x27;]),\n",
              "                                (&#x27;onehotencoder&#x27;,\n",
              "                                 OneHotEncoder(handle_unknown=&#x27;ignore&#x27;),\n",
              "                                 [&#x27;workclass&#x27;, &#x27;occupation&#x27;, &#x27;marital.status&#x27;,\n",
              "                                  &#x27;relationship&#x27;, &#x27;native.country&#x27;]),\n",
              "                                (&#x27;standardscaler&#x27;, StandardScaler(),\n",
              "                                 [&#x27;age&#x27;, &#x27;capital.gain&#x27;, &#x27;capital.loss&#x27;,\n",
              "                                  &#x27;hours.per.week&#x27;])])</pre></div></div></div><div class=\"sk-parallel\"><div class=\"sk-parallel-item\"><div class=\"sk-item\"><div class=\"sk-label-container\"><div class=\"sk-label sk-toggleable\"><input class=\"sk-toggleable__control sk-hidden--visually\" id=\"sk-estimator-id-75\" type=\"checkbox\" ><label for=\"sk-estimator-id-75\" class=\"sk-toggleable__label sk-toggleable__label-arrow\">pipeline</label><div class=\"sk-toggleable__content\"><pre>[&#x27;workclass&#x27;, &#x27;occupation&#x27;]</pre></div></div></div><div class=\"sk-serial\"><div class=\"sk-item\"><div class=\"sk-serial\"><div class=\"sk-item\"><div class=\"sk-estimator sk-toggleable\"><input class=\"sk-toggleable__control sk-hidden--visually\" id=\"sk-estimator-id-76\" type=\"checkbox\" ><label for=\"sk-estimator-id-76\" class=\"sk-toggleable__label sk-toggleable__label-arrow\">SimpleImputer</label><div class=\"sk-toggleable__content\"><pre>SimpleImputer(strategy=&#x27;most_frequent&#x27;)</pre></div></div></div><div class=\"sk-item\"><div class=\"sk-estimator sk-toggleable\"><input class=\"sk-toggleable__control sk-hidden--visually\" id=\"sk-estimator-id-77\" type=\"checkbox\" ><label for=\"sk-estimator-id-77\" class=\"sk-toggleable__label sk-toggleable__label-arrow\">OneHotEncoder</label><div class=\"sk-toggleable__content\"><pre>OneHotEncoder(handle_unknown=&#x27;ignore&#x27;)</pre></div></div></div></div></div></div></div></div><div class=\"sk-parallel-item\"><div class=\"sk-item\"><div class=\"sk-label-container\"><div class=\"sk-label sk-toggleable\"><input class=\"sk-toggleable__control sk-hidden--visually\" id=\"sk-estimator-id-78\" type=\"checkbox\" ><label for=\"sk-estimator-id-78\" class=\"sk-toggleable__label sk-toggleable__label-arrow\">onehotencoder</label><div class=\"sk-toggleable__content\"><pre>[&#x27;workclass&#x27;, &#x27;occupation&#x27;, &#x27;marital.status&#x27;, &#x27;relationship&#x27;, &#x27;native.country&#x27;]</pre></div></div></div><div class=\"sk-serial\"><div class=\"sk-item\"><div class=\"sk-estimator sk-toggleable\"><input class=\"sk-toggleable__control sk-hidden--visually\" id=\"sk-estimator-id-79\" type=\"checkbox\" ><label for=\"sk-estimator-id-79\" class=\"sk-toggleable__label sk-toggleable__label-arrow\">OneHotEncoder</label><div class=\"sk-toggleable__content\"><pre>OneHotEncoder(handle_unknown=&#x27;ignore&#x27;)</pre></div></div></div></div></div></div><div class=\"sk-parallel-item\"><div class=\"sk-item\"><div class=\"sk-label-container\"><div class=\"sk-label sk-toggleable\"><input class=\"sk-toggleable__control sk-hidden--visually\" id=\"sk-estimator-id-80\" type=\"checkbox\" ><label for=\"sk-estimator-id-80\" class=\"sk-toggleable__label sk-toggleable__label-arrow\">standardscaler</label><div class=\"sk-toggleable__content\"><pre>[&#x27;age&#x27;, &#x27;capital.gain&#x27;, &#x27;capital.loss&#x27;, &#x27;hours.per.week&#x27;]</pre></div></div></div><div class=\"sk-serial\"><div class=\"sk-item\"><div class=\"sk-estimator sk-toggleable\"><input class=\"sk-toggleable__control sk-hidden--visually\" id=\"sk-estimator-id-81\" type=\"checkbox\" ><label for=\"sk-estimator-id-81\" class=\"sk-toggleable__label sk-toggleable__label-arrow\">StandardScaler</label><div class=\"sk-toggleable__content\"><pre>StandardScaler()</pre></div></div></div></div></div></div></div></div><div class=\"sk-item\"><div class=\"sk-estimator sk-toggleable\"><input class=\"sk-toggleable__control sk-hidden--visually\" id=\"sk-estimator-id-82\" type=\"checkbox\" ><label for=\"sk-estimator-id-82\" class=\"sk-toggleable__label sk-toggleable__label-arrow\">DummyClassifier</label><div class=\"sk-toggleable__content\"><pre>DummyClassifier()</pre></div></div></div></div></div></div></div>"
            ],
            "text/plain": [
              "Pipeline(steps=[('columntransformer',\n",
              "                 ColumnTransformer(transformers=[('pipeline',\n",
              "                                                  Pipeline(steps=[('simpleimputer',\n",
              "                                                                   SimpleImputer(strategy='most_frequent')),\n",
              "                                                                  ('onehotencoder',\n",
              "                                                                   OneHotEncoder(handle_unknown='ignore'))]),\n",
              "                                                  ['workclass', 'occupation']),\n",
              "                                                 ('onehotencoder',\n",
              "                                                  OneHotEncoder(handle_unknown='ignore'),\n",
              "                                                  ['workclass', 'occupation',\n",
              "                                                   'marital.status',\n",
              "                                                   'relationship',\n",
              "                                                   'native.country']),\n",
              "                                                 ('standardscaler',\n",
              "                                                  StandardScaler(),\n",
              "                                                  ['age', 'capital.gain',\n",
              "                                                   'capital.loss',\n",
              "                                                   'hours.per.week'])])),\n",
              "                ('dummyclassifier', DummyClassifier())])"
            ]
          },
          "execution_count": 77,
          "metadata": {},
          "output_type": "execute_result"
        }
      ],
      "source": [
        "# Task 1:\n",
        "# Define the pipeline\n",
        "pipeline = make_pipeline(preprocessor, DummyClassifier(strategy=\"prior\"))\n",
        "\n",
        "# Display the pipeline\n",
        "pipeline\n"
      ]
    },
    {
      "cell_type": "code",
      "execution_count": 78,
      "metadata": {
        "id": "S2_GgZ4WkzSJ"
      },
      "outputs": [
        {
          "data": {
            "text/html": [
              "<div>\n",
              "<style scoped>\n",
              "    .dataframe tbody tr th:only-of-type {\n",
              "        vertical-align: middle;\n",
              "    }\n",
              "\n",
              "    .dataframe tbody tr th {\n",
              "        vertical-align: top;\n",
              "    }\n",
              "\n",
              "    .dataframe thead th {\n",
              "        text-align: right;\n",
              "    }\n",
              "</style>\n",
              "<table border=\"1\" class=\"dataframe\">\n",
              "  <thead>\n",
              "    <tr style=\"text-align: right;\">\n",
              "      <th></th>\n",
              "      <th>DummyClassifier</th>\n",
              "    </tr>\n",
              "  </thead>\n",
              "  <tbody>\n",
              "    <tr>\n",
              "      <th>0</th>\n",
              "      <td>0.758907</td>\n",
              "    </tr>\n",
              "    <tr>\n",
              "      <th>1</th>\n",
              "      <td>0.758907</td>\n",
              "    </tr>\n",
              "    <tr>\n",
              "      <th>2</th>\n",
              "      <td>0.758907</td>\n",
              "    </tr>\n",
              "    <tr>\n",
              "      <th>3</th>\n",
              "      <td>0.758907</td>\n",
              "    </tr>\n",
              "    <tr>\n",
              "      <th>4</th>\n",
              "      <td>0.758907</td>\n",
              "    </tr>\n",
              "  </tbody>\n",
              "</table>\n",
              "</div>"
            ],
            "text/plain": [
              "   DummyClassifier\n",
              "0         0.758907\n",
              "1         0.758907\n",
              "2         0.758907\n",
              "3         0.758907\n",
              "4         0.758907"
            ]
          },
          "execution_count": 78,
          "metadata": {},
          "output_type": "execute_result"
        }
      ],
      "source": [
        "# Task 2:\n",
        "# 5-fold cross-validation\n",
        "cv_scores = cross_val_score(pipeline, X_train, y_train, cv=5)\n",
        "\n",
        "# Storing the results in a dictionary\n",
        "results_dict = {\"DummyClassifier\": cv_scores}\n",
        "\n",
        "# Displaying the results as a pandas DataFrame\n",
        "results_df = pd.DataFrame(results_dict)\n",
        "results_df"
      ]
    },
    {
      "cell_type": "markdown",
      "metadata": {
        "id": "keTpMjxBDflr"
      },
      "source": [
        "### 4.2 Trying different classifiers\n",
        "rubric={points:12}\n",
        "\n",
        "**Your tasks:**\n",
        "\n",
        "1. For each of the models in the starter code below: {points: 5}\n",
        "    - Define a pipeline with two steps: `preprocessor` from 3.1 and the model as your classifier. \n",
        "    - Carry out 5-fold cross-validation with the pipeline.  \n",
        "    - Store the results in `results_dict`. \n",
        "2. Display all the results so far as a pandas dataframe. {points: 2}\n",
        "3. Compare the train and validation accuracies and `fit` and `score` times in each case. How do the the validation accuracies compare to the baseline model from 4.1? Which model has the best validation accuracy? Which model is the fastest one(Pick one from: Dummy classifier, decision tree, KNN, SVM)? {points: 5} \n",
        "\n",
        "> Note that this might take a while to run.\n",
        "\n",
        "> You may use the function above `mean_std_cross_val_scores` to carry out cross-validation and storing results. Refer to the class notes if you are unsure about how to use it. "
      ]
    },
    {
      "cell_type": "code",
      "execution_count": 79,
      "metadata": {
        "id": "9V2AIF0kDflr"
      },
      "outputs": [],
      "source": [
        "models = {\n",
        "    \"decision tree\": DecisionTreeClassifier(),\n",
        "    \"kNN\": KNeighborsClassifier(),\n",
        "    \"RBF SVM\": SVC(),\n",
        "}"
      ]
    },
    {
      "cell_type": "code",
      "execution_count": 80,
      "metadata": {
        "id": "zV0YTrAZoRi6"
      },
      "outputs": [],
      "source": [
        "# For each model, define a pipeline and carry out 5-fold cross-validation\n",
        "for name, model in models.items():\n",
        "    pipeline = make_pipeline(preprocessor, model)\n",
        "    cv_scores = cross_val_score(pipeline, X_train, y_train, cv=5)\n",
        "    results_dict[name] = cv_scores\n"
      ]
    },
    {
      "cell_type": "code",
      "execution_count": 81,
      "metadata": {
        "id": "b_8KyG07r-Sh"
      },
      "outputs": [
        {
          "name": "stdout",
          "output_type": "stream",
          "text": [
            "   DummyClassifier  decision tree       kNN   RBF SVM\n",
            "0         0.758907       0.823096  0.834767  0.856880\n",
            "1         0.758907       0.806818  0.829853  0.850123\n",
            "2         0.758907       0.815725  0.819103  0.842752\n",
            "3         0.758907       0.808661  0.821867  0.844287\n",
            "4         0.758907       0.824631  0.823710  0.855344\n"
          ]
        }
      ],
      "source": [
        "# Task 2:\n",
        "results_df = pd.DataFrame(results_dict)\n",
        "print(results_df)"
      ]
    },
    {
      "cell_type": "code",
      "execution_count": 82,
      "metadata": {
        "id": "hZElCc5nqNvu"
      },
      "outputs": [
        {
          "name": "stdout",
          "output_type": "stream",
          "text": [
            "Validation Accuracies Compared to Baseline (DummyClassifier):\n",
            "\tDummyClassifier: 0.7589 (Difference from baseline: 0.0000)\n",
            "\tdecision tree: 0.8158 (Difference from baseline: 0.0569)\n",
            "\tkNN: 0.8259 (Difference from baseline: 0.0670)\n",
            "\tRBF SVM: 0.8499 (Difference from baseline: 0.0910)\n",
            "\n",
            "The model with the best validation accuracy is: RBF SVM with accuracy of 0.8499\n"
          ]
        }
      ],
      "source": [
        "# Task 3:\n",
        "# Calculate the mean validation accuracy for each model\n",
        "mean_accuracies = results_df.mean()\n",
        "\n",
        "# Compare the validation accuracies to the baseline model\n",
        "baseline_accuracy = mean_accuracies[\"DummyClassifier\"]\n",
        "print(\"Validation Accuracies Compared to Baseline (DummyClassifier):\")\n",
        "for model, accuracy in mean_accuracies.items():\n",
        "    difference = accuracy - baseline_accuracy\n",
        "    print(f\"\\t{model}: {accuracy:.4f} (Difference from baseline: {difference:.4f})\")\n",
        "\n",
        "# Identify the model with the best validation accuracy\n",
        "best_model = mean_accuracies.idxmax()\n",
        "print(f\"\\nThe model with the best validation accuracy is: {best_model} with accuracy of {mean_accuracies[best_model]:.4f}\")\n",
        "\n",
        "# Answer: DummyClassifier"
      ]
    },
    {
      "cell_type": "markdown",
      "metadata": {
        "id": "OMEIQEyMDflr"
      },
      "source": [
        "### 4.3 Exploring importance of scaling\n",
        "rubric={points:10}\n",
        "\n",
        "In this exercise you'll examine whether scaling helps in case of KNNs and SVM RBFs. \n",
        "\n",
        "**Your tasks:**\n",
        "\n",
        "1. Create a column transformer without the `StandardScaler` step for `numeric_features`. {points:4} \n",
        "2. Repeat the steps in 4.2 with this new column transformer. Save all results in \"results_dic_compare\" {points: 4}\n",
        "3. Compare the results of scaled numeric features with unscaled numeric features. Is scaling necessary for decision trees? Why or why not? {points:2}"
      ]
    },
    {
      "cell_type": "code",
      "execution_count": 83,
      "metadata": {
        "id": "qT_aUI9V1iGH"
      },
      "outputs": [],
      "source": [
        "results_dict_compare = {}  # dictionary to store all the results"
      ]
    },
    {
      "cell_type": "code",
      "execution_count": 84,
      "metadata": {
        "id": "zZ0OGDYu0i16"
      },
      "outputs": [
        {
          "data": {
            "text/html": [
              "<style>#sk-container-id-10 {color: black;}#sk-container-id-10 pre{padding: 0;}#sk-container-id-10 div.sk-toggleable {background-color: white;}#sk-container-id-10 label.sk-toggleable__label {cursor: pointer;display: block;width: 100%;margin-bottom: 0;padding: 0.3em;box-sizing: border-box;text-align: center;}#sk-container-id-10 label.sk-toggleable__label-arrow:before {content: \"▸\";float: left;margin-right: 0.25em;color: #696969;}#sk-container-id-10 label.sk-toggleable__label-arrow:hover:before {color: black;}#sk-container-id-10 div.sk-estimator:hover label.sk-toggleable__label-arrow:before {color: black;}#sk-container-id-10 div.sk-toggleable__content {max-height: 0;max-width: 0;overflow: hidden;text-align: left;background-color: #f0f8ff;}#sk-container-id-10 div.sk-toggleable__content pre {margin: 0.2em;color: black;border-radius: 0.25em;background-color: #f0f8ff;}#sk-container-id-10 input.sk-toggleable__control:checked~div.sk-toggleable__content {max-height: 200px;max-width: 100%;overflow: auto;}#sk-container-id-10 input.sk-toggleable__control:checked~label.sk-toggleable__label-arrow:before {content: \"▾\";}#sk-container-id-10 div.sk-estimator input.sk-toggleable__control:checked~label.sk-toggleable__label {background-color: #d4ebff;}#sk-container-id-10 div.sk-label input.sk-toggleable__control:checked~label.sk-toggleable__label {background-color: #d4ebff;}#sk-container-id-10 input.sk-hidden--visually {border: 0;clip: rect(1px 1px 1px 1px);clip: rect(1px, 1px, 1px, 1px);height: 1px;margin: -1px;overflow: hidden;padding: 0;position: absolute;width: 1px;}#sk-container-id-10 div.sk-estimator {font-family: monospace;background-color: #f0f8ff;border: 1px dotted black;border-radius: 0.25em;box-sizing: border-box;margin-bottom: 0.5em;}#sk-container-id-10 div.sk-estimator:hover {background-color: #d4ebff;}#sk-container-id-10 div.sk-parallel-item::after {content: \"\";width: 100%;border-bottom: 1px solid gray;flex-grow: 1;}#sk-container-id-10 div.sk-label:hover label.sk-toggleable__label {background-color: #d4ebff;}#sk-container-id-10 div.sk-serial::before {content: \"\";position: absolute;border-left: 1px solid gray;box-sizing: border-box;top: 0;bottom: 0;left: 50%;z-index: 0;}#sk-container-id-10 div.sk-serial {display: flex;flex-direction: column;align-items: center;background-color: white;padding-right: 0.2em;padding-left: 0.2em;position: relative;}#sk-container-id-10 div.sk-item {position: relative;z-index: 1;}#sk-container-id-10 div.sk-parallel {display: flex;align-items: stretch;justify-content: center;background-color: white;position: relative;}#sk-container-id-10 div.sk-item::before, #sk-container-id-10 div.sk-parallel-item::before {content: \"\";position: absolute;border-left: 1px solid gray;box-sizing: border-box;top: 0;bottom: 0;left: 50%;z-index: -1;}#sk-container-id-10 div.sk-parallel-item {display: flex;flex-direction: column;z-index: 1;position: relative;background-color: white;}#sk-container-id-10 div.sk-parallel-item:first-child::after {align-self: flex-end;width: 50%;}#sk-container-id-10 div.sk-parallel-item:last-child::after {align-self: flex-start;width: 50%;}#sk-container-id-10 div.sk-parallel-item:only-child::after {width: 0;}#sk-container-id-10 div.sk-dashed-wrapped {border: 1px dashed gray;margin: 0 0.4em 0.5em 0.4em;box-sizing: border-box;padding-bottom: 0.4em;background-color: white;}#sk-container-id-10 div.sk-label label {font-family: monospace;font-weight: bold;display: inline-block;line-height: 1.2em;}#sk-container-id-10 div.sk-label-container {text-align: center;}#sk-container-id-10 div.sk-container {/* jupyter's `normalize.less` sets `[hidden] { display: none; }` but bootstrap.min.css set `[hidden] { display: none !important; }` so we also need the `!important` here to be able to override the default hidden behavior on the sphinx rendered scikit-learn.org. See: https://github.com/scikit-learn/scikit-learn/issues/21755 */display: inline-block !important;position: relative;}#sk-container-id-10 div.sk-text-repr-fallback {display: none;}</style><div id=\"sk-container-id-10\" class=\"sk-top-container\"><div class=\"sk-text-repr-fallback\"><pre>ColumnTransformer(transformers=[(&#x27;pipeline&#x27;,\n",
              "                                 Pipeline(steps=[(&#x27;simpleimputer&#x27;,\n",
              "                                                  SimpleImputer(strategy=&#x27;most_frequent&#x27;)),\n",
              "                                                 (&#x27;onehotencoder&#x27;,\n",
              "                                                  OneHotEncoder(handle_unknown=&#x27;ignore&#x27;))]),\n",
              "                                 [&#x27;workclass&#x27;, &#x27;occupation&#x27;]),\n",
              "                                (&#x27;onehotencoder&#x27;,\n",
              "                                 OneHotEncoder(handle_unknown=&#x27;ignore&#x27;),\n",
              "                                 [&#x27;workclass&#x27;, &#x27;occupation&#x27;, &#x27;marital.status&#x27;,\n",
              "                                  &#x27;relationship&#x27;, &#x27;native.country&#x27;]),\n",
              "                                (&#x27;passthrough&#x27;, &#x27;passthrough&#x27;,\n",
              "                                 [&#x27;age&#x27;, &#x27;capital.gain&#x27;, &#x27;capital.loss&#x27;,\n",
              "                                  &#x27;hours.per.week&#x27;])])</pre><b>In a Jupyter environment, please rerun this cell to show the HTML representation or trust the notebook. <br />On GitHub, the HTML representation is unable to render, please try loading this page with nbviewer.org.</b></div><div class=\"sk-container\" hidden><div class=\"sk-item sk-dashed-wrapped\"><div class=\"sk-label-container\"><div class=\"sk-label sk-toggleable\"><input class=\"sk-toggleable__control sk-hidden--visually\" id=\"sk-estimator-id-83\" type=\"checkbox\" ><label for=\"sk-estimator-id-83\" class=\"sk-toggleable__label sk-toggleable__label-arrow\">ColumnTransformer</label><div class=\"sk-toggleable__content\"><pre>ColumnTransformer(transformers=[(&#x27;pipeline&#x27;,\n",
              "                                 Pipeline(steps=[(&#x27;simpleimputer&#x27;,\n",
              "                                                  SimpleImputer(strategy=&#x27;most_frequent&#x27;)),\n",
              "                                                 (&#x27;onehotencoder&#x27;,\n",
              "                                                  OneHotEncoder(handle_unknown=&#x27;ignore&#x27;))]),\n",
              "                                 [&#x27;workclass&#x27;, &#x27;occupation&#x27;]),\n",
              "                                (&#x27;onehotencoder&#x27;,\n",
              "                                 OneHotEncoder(handle_unknown=&#x27;ignore&#x27;),\n",
              "                                 [&#x27;workclass&#x27;, &#x27;occupation&#x27;, &#x27;marital.status&#x27;,\n",
              "                                  &#x27;relationship&#x27;, &#x27;native.country&#x27;]),\n",
              "                                (&#x27;passthrough&#x27;, &#x27;passthrough&#x27;,\n",
              "                                 [&#x27;age&#x27;, &#x27;capital.gain&#x27;, &#x27;capital.loss&#x27;,\n",
              "                                  &#x27;hours.per.week&#x27;])])</pre></div></div></div><div class=\"sk-parallel\"><div class=\"sk-parallel-item\"><div class=\"sk-item\"><div class=\"sk-label-container\"><div class=\"sk-label sk-toggleable\"><input class=\"sk-toggleable__control sk-hidden--visually\" id=\"sk-estimator-id-84\" type=\"checkbox\" ><label for=\"sk-estimator-id-84\" class=\"sk-toggleable__label sk-toggleable__label-arrow\">pipeline</label><div class=\"sk-toggleable__content\"><pre>[&#x27;workclass&#x27;, &#x27;occupation&#x27;]</pre></div></div></div><div class=\"sk-serial\"><div class=\"sk-item\"><div class=\"sk-serial\"><div class=\"sk-item\"><div class=\"sk-estimator sk-toggleable\"><input class=\"sk-toggleable__control sk-hidden--visually\" id=\"sk-estimator-id-85\" type=\"checkbox\" ><label for=\"sk-estimator-id-85\" class=\"sk-toggleable__label sk-toggleable__label-arrow\">SimpleImputer</label><div class=\"sk-toggleable__content\"><pre>SimpleImputer(strategy=&#x27;most_frequent&#x27;)</pre></div></div></div><div class=\"sk-item\"><div class=\"sk-estimator sk-toggleable\"><input class=\"sk-toggleable__control sk-hidden--visually\" id=\"sk-estimator-id-86\" type=\"checkbox\" ><label for=\"sk-estimator-id-86\" class=\"sk-toggleable__label sk-toggleable__label-arrow\">OneHotEncoder</label><div class=\"sk-toggleable__content\"><pre>OneHotEncoder(handle_unknown=&#x27;ignore&#x27;)</pre></div></div></div></div></div></div></div></div><div class=\"sk-parallel-item\"><div class=\"sk-item\"><div class=\"sk-label-container\"><div class=\"sk-label sk-toggleable\"><input class=\"sk-toggleable__control sk-hidden--visually\" id=\"sk-estimator-id-87\" type=\"checkbox\" ><label for=\"sk-estimator-id-87\" class=\"sk-toggleable__label sk-toggleable__label-arrow\">onehotencoder</label><div class=\"sk-toggleable__content\"><pre>[&#x27;workclass&#x27;, &#x27;occupation&#x27;, &#x27;marital.status&#x27;, &#x27;relationship&#x27;, &#x27;native.country&#x27;]</pre></div></div></div><div class=\"sk-serial\"><div class=\"sk-item\"><div class=\"sk-estimator sk-toggleable\"><input class=\"sk-toggleable__control sk-hidden--visually\" id=\"sk-estimator-id-88\" type=\"checkbox\" ><label for=\"sk-estimator-id-88\" class=\"sk-toggleable__label sk-toggleable__label-arrow\">OneHotEncoder</label><div class=\"sk-toggleable__content\"><pre>OneHotEncoder(handle_unknown=&#x27;ignore&#x27;)</pre></div></div></div></div></div></div><div class=\"sk-parallel-item\"><div class=\"sk-item\"><div class=\"sk-label-container\"><div class=\"sk-label sk-toggleable\"><input class=\"sk-toggleable__control sk-hidden--visually\" id=\"sk-estimator-id-89\" type=\"checkbox\" ><label for=\"sk-estimator-id-89\" class=\"sk-toggleable__label sk-toggleable__label-arrow\">passthrough</label><div class=\"sk-toggleable__content\"><pre>[&#x27;age&#x27;, &#x27;capital.gain&#x27;, &#x27;capital.loss&#x27;, &#x27;hours.per.week&#x27;]</pre></div></div></div><div class=\"sk-serial\"><div class=\"sk-item\"><div class=\"sk-estimator sk-toggleable\"><input class=\"sk-toggleable__control sk-hidden--visually\" id=\"sk-estimator-id-90\" type=\"checkbox\" ><label for=\"sk-estimator-id-90\" class=\"sk-toggleable__label sk-toggleable__label-arrow\">passthrough</label><div class=\"sk-toggleable__content\"><pre>passthrough</pre></div></div></div></div></div></div></div></div></div></div>"
            ],
            "text/plain": [
              "ColumnTransformer(transformers=[('pipeline',\n",
              "                                 Pipeline(steps=[('simpleimputer',\n",
              "                                                  SimpleImputer(strategy='most_frequent')),\n",
              "                                                 ('onehotencoder',\n",
              "                                                  OneHotEncoder(handle_unknown='ignore'))]),\n",
              "                                 ['workclass', 'occupation']),\n",
              "                                ('onehotencoder',\n",
              "                                 OneHotEncoder(handle_unknown='ignore'),\n",
              "                                 ['workclass', 'occupation', 'marital.status',\n",
              "                                  'relationship', 'native.country']),\n",
              "                                ('passthrough', 'passthrough',\n",
              "                                 ['age', 'capital.gain', 'capital.loss',\n",
              "                                  'hours.per.week'])])"
            ]
          },
          "execution_count": 84,
          "metadata": {},
          "output_type": "execute_result"
        }
      ],
      "source": [
        "# Task 1:\n",
        "# Update the preprocessor to exclude StandardScaler for numeric features\n",
        "preprocessor_no_scaling = make_column_transformer(\n",
        "    (make_pipeline(SimpleImputer(strategy='most_frequent'), OneHotEncoder(handle_unknown='ignore')), impute_cols),\n",
        "    (OneHotEncoder(handle_unknown='ignore'), onehot_cols),\n",
        "    ('passthrough', scale_cols)  # Instead of scaling, we'll simply pass through the numeric features\n",
        ")\n",
        "\n",
        "preprocessor_no_scaling"
      ]
    },
    {
      "cell_type": "code",
      "execution_count": 85,
      "metadata": {
        "id": "DVUBwzyj2CcP"
      },
      "outputs": [
        {
          "data": {
            "text/html": [
              "<div>\n",
              "<style scoped>\n",
              "    .dataframe tbody tr th:only-of-type {\n",
              "        vertical-align: middle;\n",
              "    }\n",
              "\n",
              "    .dataframe tbody tr th {\n",
              "        vertical-align: top;\n",
              "    }\n",
              "\n",
              "    .dataframe thead th {\n",
              "        text-align: right;\n",
              "    }\n",
              "</style>\n",
              "<table border=\"1\" class=\"dataframe\">\n",
              "  <thead>\n",
              "    <tr style=\"text-align: right;\">\n",
              "      <th></th>\n",
              "      <th>decision tree</th>\n",
              "      <th>kNN</th>\n",
              "      <th>RBF SVM</th>\n",
              "    </tr>\n",
              "  </thead>\n",
              "  <tbody>\n",
              "    <tr>\n",
              "      <th>0</th>\n",
              "      <td>0.817875</td>\n",
              "      <td>0.842752</td>\n",
              "      <td>0.801597</td>\n",
              "    </tr>\n",
              "    <tr>\n",
              "      <th>1</th>\n",
              "      <td>0.809275</td>\n",
              "      <td>0.823096</td>\n",
              "      <td>0.800061</td>\n",
              "    </tr>\n",
              "    <tr>\n",
              "      <th>2</th>\n",
              "      <td>0.813882</td>\n",
              "      <td>0.823710</td>\n",
              "      <td>0.801597</td>\n",
              "    </tr>\n",
              "    <tr>\n",
              "      <th>3</th>\n",
              "      <td>0.805590</td>\n",
              "      <td>0.825553</td>\n",
              "      <td>0.808661</td>\n",
              "    </tr>\n",
              "    <tr>\n",
              "      <th>4</th>\n",
              "      <td>0.824017</td>\n",
              "      <td>0.826781</td>\n",
              "      <td>0.801597</td>\n",
              "    </tr>\n",
              "  </tbody>\n",
              "</table>\n",
              "</div>"
            ],
            "text/plain": [
              "   decision tree       kNN   RBF SVM\n",
              "0       0.817875  0.842752  0.801597\n",
              "1       0.809275  0.823096  0.800061\n",
              "2       0.813882  0.823710  0.801597\n",
              "3       0.805590  0.825553  0.808661\n",
              "4       0.824017  0.826781  0.801597"
            ]
          },
          "execution_count": 85,
          "metadata": {},
          "output_type": "execute_result"
        }
      ],
      "source": [
        "# Task 2: \n",
        "# For each model, define a pipeline with the new preprocessor and carry out 5-fold cross-validation\n",
        "for name, model in models.items():\n",
        "    pipeline = make_pipeline(preprocessor_no_scaling, model)\n",
        "    cv_scores = cross_val_score(pipeline, X_train, y_train, cv=5)\n",
        "    results_dict_compare[name] = cv_scores\n",
        "\n",
        "results_df_compare = pd.DataFrame(results_dict_compare)\n",
        "results_df_compare\n"
      ]
    },
    {
      "cell_type": "code",
      "execution_count": 86,
      "metadata": {
        "id": "3-xhypYspdi6"
      },
      "outputs": [
        {
          "data": {
            "text/html": [
              "<div>\n",
              "<style scoped>\n",
              "    .dataframe tbody tr th:only-of-type {\n",
              "        vertical-align: middle;\n",
              "    }\n",
              "\n",
              "    .dataframe tbody tr th {\n",
              "        vertical-align: top;\n",
              "    }\n",
              "\n",
              "    .dataframe thead th {\n",
              "        text-align: right;\n",
              "    }\n",
              "</style>\n",
              "<table border=\"1\" class=\"dataframe\">\n",
              "  <thead>\n",
              "    <tr style=\"text-align: right;\">\n",
              "      <th></th>\n",
              "      <th>Scaled Features</th>\n",
              "      <th>Unscaled Features</th>\n",
              "      <th>Difference</th>\n",
              "    </tr>\n",
              "  </thead>\n",
              "  <tbody>\n",
              "    <tr>\n",
              "      <th>DummyClassifier</th>\n",
              "      <td>0.758907</td>\n",
              "      <td>NaN</td>\n",
              "      <td>NaN</td>\n",
              "    </tr>\n",
              "    <tr>\n",
              "      <th>RBF SVM</th>\n",
              "      <td>0.849877</td>\n",
              "      <td>0.802703</td>\n",
              "      <td>-0.047174</td>\n",
              "    </tr>\n",
              "    <tr>\n",
              "      <th>decision tree</th>\n",
              "      <td>0.815786</td>\n",
              "      <td>0.814128</td>\n",
              "      <td>-0.001658</td>\n",
              "    </tr>\n",
              "    <tr>\n",
              "      <th>kNN</th>\n",
              "      <td>0.825860</td>\n",
              "      <td>0.828378</td>\n",
              "      <td>0.002518</td>\n",
              "    </tr>\n",
              "  </tbody>\n",
              "</table>\n",
              "</div>"
            ],
            "text/plain": [
              "                 Scaled Features  Unscaled Features  Difference\n",
              "DummyClassifier         0.758907                NaN         NaN\n",
              "RBF SVM                 0.849877           0.802703   -0.047174\n",
              "decision tree           0.815786           0.814128   -0.001658\n",
              "kNN                     0.825860           0.828378    0.002518"
            ]
          },
          "execution_count": 86,
          "metadata": {},
          "output_type": "execute_result"
        }
      ],
      "source": [
        "# Task 3:\n",
        "# Calculate mean accuracies for both results\n",
        "mean_accuracies_scaled = results_df.mean()\n",
        "mean_accuracies_unscaled = results_df_compare.mean()\n",
        "\n",
        "comparison_df = pd.DataFrame({\n",
        "    \"Scaled Features\": mean_accuracies_scaled,\n",
        "    \"Unscaled Features\": mean_accuracies_unscaled,\n",
        "    \"Difference\": mean_accuracies_unscaled - mean_accuracies_scaled\n",
        "})\n",
        "\n",
        "comparison_df\n",
        "\n",
        "# Answer: \n",
        "# Scaling is not necessary for decision trees because they make splits based on feature values, irrespective of their scale.\n",
        "# Unlike algorithms like KNN, where feature scale impacts distances between data points, decision trees are unaffected by feature scaling.\n",
        "# Hence, for decision trees, the performance remains consistent whether features are scaled or not."
      ]
    },
    {
      "cell_type": "markdown",
      "metadata": {
        "id": "qoAVkVuwDflr"
      },
      "source": [
        "### 4.4 Hyperparameter optimization\n",
        "rubric={points:8}\n",
        "\n",
        "In this exercise, you'll carry out hyperparameter optimization for the hyperparameter `C` of SVC RBF classifier. In practice you'll carry out hyperparameter optimization for all different hyperparameters for the most promising classifiers. For the purpose of this assignment, we'll only do it for the `SVC` classifier with one hyperparameter: `C`. \n",
        "\n",
        "**Your tasks:**\n",
        "\n",
        "1. For each `C` value in the `param_grid` in the starter code below: \n",
        "    - Create a pipeline object with two steps: preprocessor from 3.1 and `SVC` classifier with the value of `C`.\n",
        "    - Carry out 5-fold cross validation with the pipeline.  \n",
        "    - Store the results in `results_dict` and display results as a pandas DataFrame. {points:4} \n",
        "2. The hyperparameter `C = 1.0` is the default value in `scikit-learn`. Does this default value (`C = 1.0`) seem reasonable, meaning it is performing the best or comparable to the best `C` values? {points:4}\n",
        "\n",
        "> Note: Running this might take a while.(Waite patiently: about 9 min on colab) "
      ]
    },
    {
      "cell_type": "code",
      "execution_count": 87,
      "metadata": {
        "colab": {
          "base_uri": "https://localhost:8080/"
        },
        "id": "gBIeKqexDflr",
        "outputId": "853a66f8-21b5-426c-cbdb-9576dcff7210"
      },
      "outputs": [
        {
          "data": {
            "text/plain": [
              "{'C': array([1.e-02, 1.e-01, 1.e+00, 1.e+01, 1.e+02])}"
            ]
          },
          "execution_count": 87,
          "metadata": {},
          "output_type": "execute_result"
        }
      ],
      "source": [
        "param_grid = {\"C\": np.logspace(-2, 2, 5)}\n",
        "param_grid"
      ]
    },
    {
      "cell_type": "code",
      "execution_count": 88,
      "metadata": {
        "id": "HbOE377Qu5Mh"
      },
      "outputs": [
        {
          "data": {
            "text/html": [
              "<div>\n",
              "<style scoped>\n",
              "    .dataframe tbody tr th:only-of-type {\n",
              "        vertical-align: middle;\n",
              "    }\n",
              "\n",
              "    .dataframe tbody tr th {\n",
              "        vertical-align: top;\n",
              "    }\n",
              "\n",
              "    .dataframe thead th {\n",
              "        text-align: right;\n",
              "    }\n",
              "</style>\n",
              "<table border=\"1\" class=\"dataframe\">\n",
              "  <thead>\n",
              "    <tr style=\"text-align: right;\">\n",
              "      <th></th>\n",
              "      <th>DummyClassifier</th>\n",
              "      <th>decision tree</th>\n",
              "      <th>kNN</th>\n",
              "      <th>RBF SVM</th>\n",
              "      <th>SVC_C_0.01</th>\n",
              "      <th>SVC_C_0.1</th>\n",
              "      <th>SVC_C_1.0</th>\n",
              "      <th>SVC_C_10.0</th>\n",
              "      <th>SVC_C_100.0</th>\n",
              "    </tr>\n",
              "  </thead>\n",
              "  <tbody>\n",
              "    <tr>\n",
              "      <th>0</th>\n",
              "      <td>0.758907</td>\n",
              "      <td>0.823096</td>\n",
              "      <td>0.834767</td>\n",
              "      <td>0.856880</td>\n",
              "      <td>0.771499</td>\n",
              "      <td>0.851966</td>\n",
              "      <td>0.856880</td>\n",
              "      <td>0.854730</td>\n",
              "      <td>0.845823</td>\n",
              "    </tr>\n",
              "    <tr>\n",
              "      <th>1</th>\n",
              "      <td>0.758907</td>\n",
              "      <td>0.806818</td>\n",
              "      <td>0.829853</td>\n",
              "      <td>0.850123</td>\n",
              "      <td>0.770270</td>\n",
              "      <td>0.840909</td>\n",
              "      <td>0.850123</td>\n",
              "      <td>0.850737</td>\n",
              "      <td>0.840602</td>\n",
              "    </tr>\n",
              "    <tr>\n",
              "      <th>2</th>\n",
              "      <td>0.758907</td>\n",
              "      <td>0.815725</td>\n",
              "      <td>0.819103</td>\n",
              "      <td>0.842752</td>\n",
              "      <td>0.771499</td>\n",
              "      <td>0.838759</td>\n",
              "      <td>0.842752</td>\n",
              "      <td>0.840909</td>\n",
              "      <td>0.833538</td>\n",
              "    </tr>\n",
              "    <tr>\n",
              "      <th>3</th>\n",
              "      <td>0.758907</td>\n",
              "      <td>0.808661</td>\n",
              "      <td>0.821867</td>\n",
              "      <td>0.844287</td>\n",
              "      <td>0.769042</td>\n",
              "      <td>0.839373</td>\n",
              "      <td>0.844287</td>\n",
              "      <td>0.842445</td>\n",
              "      <td>0.830467</td>\n",
              "    </tr>\n",
              "    <tr>\n",
              "      <th>4</th>\n",
              "      <td>0.758907</td>\n",
              "      <td>0.824631</td>\n",
              "      <td>0.823710</td>\n",
              "      <td>0.855344</td>\n",
              "      <td>0.769656</td>\n",
              "      <td>0.851966</td>\n",
              "      <td>0.855344</td>\n",
              "      <td>0.854423</td>\n",
              "      <td>0.847973</td>\n",
              "    </tr>\n",
              "  </tbody>\n",
              "</table>\n",
              "</div>"
            ],
            "text/plain": [
              "   DummyClassifier  decision tree       kNN   RBF SVM  SVC_C_0.01  SVC_C_0.1  \\\n",
              "0         0.758907       0.823096  0.834767  0.856880    0.771499   0.851966   \n",
              "1         0.758907       0.806818  0.829853  0.850123    0.770270   0.840909   \n",
              "2         0.758907       0.815725  0.819103  0.842752    0.771499   0.838759   \n",
              "3         0.758907       0.808661  0.821867  0.844287    0.769042   0.839373   \n",
              "4         0.758907       0.824631  0.823710  0.855344    0.769656   0.851966   \n",
              "\n",
              "   SVC_C_1.0  SVC_C_10.0  SVC_C_100.0  \n",
              "0   0.856880    0.854730     0.845823  \n",
              "1   0.850123    0.850737     0.840602  \n",
              "2   0.842752    0.840909     0.833538  \n",
              "3   0.844287    0.842445     0.830467  \n",
              "4   0.855344    0.854423     0.847973  "
            ]
          },
          "execution_count": 88,
          "metadata": {},
          "output_type": "execute_result"
        }
      ],
      "source": [
        "# Task 1:\n",
        "# Iterating over the C values, creating a pipeline, and performing 5-fold cross-validation\n",
        "for c_value in param_grid['C']:\n",
        "    pipeline_svc = make_pipeline(preprocessor, SVC(C=c_value))\n",
        "    cv_scores = cross_val_score(pipeline_svc, X_train, y_train, cv=5)\n",
        "    results_dict[f\"SVC_C_{c_value}\"] = cv_scores\n",
        "\n",
        "# Displaying the updated results as a pandas DataFrame\n",
        "results_df_updated = pd.DataFrame(results_dict)\n",
        "results_df_updated"
      ]
    },
    {
      "cell_type": "code",
      "execution_count": 89,
      "metadata": {
        "id": "yKXlRVA6pqUk"
      },
      "outputs": [
        {
          "name": "stdout",
          "output_type": "stream",
          "text": [
            "The best C value is: RBF SVM with an accuracy of 0.8499\n",
            "The accuracy with default C=1.0 is: 0.8499\n",
            "The default value C=1.0 is not the best choice.\n"
          ]
        }
      ],
      "source": [
        "# Task 2:\n",
        "# Extract the mean accuracy for each C value\n",
        "mean_accuracies = results_df_updated.mean()\n",
        "\n",
        "# Check if the default value C=1.0 is reasonable\n",
        "best_C = mean_accuracies.idxmax()\n",
        "best_accuracy = mean_accuracies.max()\n",
        "default_accuracy = mean_accuracies['SVC_C_1.0']\n",
        "\n",
        "print(f\"The best C value is: {best_C.split('_')[-1]} with an accuracy of {best_accuracy:.4f}\")\n",
        "print(f\"The accuracy with default C=1.0 is: {default_accuracy:.4f}\")\n",
        "\n",
        "if best_C == 'SVC_C_1.0':\n",
        "    print(\"The default value C=1.0 is the best choice.\")\n",
        "else:\n",
        "    print(\"The default value C=1.0 is not the best choice.\")"
      ]
    },
    {
      "cell_type": "markdown",
      "metadata": {
        "id": "Nez4IjzNDfls",
        "tags": []
      },
      "source": [
        "## Exercise 5: Evaluating on the test set <a name=\"5\"></a>\n",
        "<hr>\n",
        "\n",
        "Now that we have a best performing model, it's time to assess our model on the set aside test set. In this exercise you'll examine whether the results you obtained using cross-validation on the train set are consistent with the results on the test set. "
      ]
    },
    {
      "cell_type": "markdown",
      "metadata": {
        "id": "OAkgUihmDfls"
      },
      "source": [
        "### 5.1 Scoring on the unseen test set \n",
        "rubric={points:6}\n",
        "\n",
        "**Your tasks:**\n",
        "\n",
        "1. Train the best performing model on the entire training set. {points:2} \n",
        "2. Report the results of this model on `X_test`. Hint: Categorical features may be different in training set and test set. So, when you make your preprocessor, you need to make argment \"handle_unknown='ignore'\" {points: 2}\n",
        "3. Are the cross-validation results and test results consistent? {points:2} "
      ]
    },
    {
      "cell_type": "code",
      "execution_count": 90,
      "metadata": {
        "id": "uMOpVgULqBkJ"
      },
      "outputs": [],
      "source": [
        "from sklearn.metrics import accuracy_score"
      ]
    },
    {
      "cell_type": "code",
      "execution_count": 91,
      "metadata": {
        "id": "HBBaktA_Dfls"
      },
      "outputs": [
        {
          "data": {
            "text/html": [
              "<style>#sk-container-id-11 {color: black;}#sk-container-id-11 pre{padding: 0;}#sk-container-id-11 div.sk-toggleable {background-color: white;}#sk-container-id-11 label.sk-toggleable__label {cursor: pointer;display: block;width: 100%;margin-bottom: 0;padding: 0.3em;box-sizing: border-box;text-align: center;}#sk-container-id-11 label.sk-toggleable__label-arrow:before {content: \"▸\";float: left;margin-right: 0.25em;color: #696969;}#sk-container-id-11 label.sk-toggleable__label-arrow:hover:before {color: black;}#sk-container-id-11 div.sk-estimator:hover label.sk-toggleable__label-arrow:before {color: black;}#sk-container-id-11 div.sk-toggleable__content {max-height: 0;max-width: 0;overflow: hidden;text-align: left;background-color: #f0f8ff;}#sk-container-id-11 div.sk-toggleable__content pre {margin: 0.2em;color: black;border-radius: 0.25em;background-color: #f0f8ff;}#sk-container-id-11 input.sk-toggleable__control:checked~div.sk-toggleable__content {max-height: 200px;max-width: 100%;overflow: auto;}#sk-container-id-11 input.sk-toggleable__control:checked~label.sk-toggleable__label-arrow:before {content: \"▾\";}#sk-container-id-11 div.sk-estimator input.sk-toggleable__control:checked~label.sk-toggleable__label {background-color: #d4ebff;}#sk-container-id-11 div.sk-label input.sk-toggleable__control:checked~label.sk-toggleable__label {background-color: #d4ebff;}#sk-container-id-11 input.sk-hidden--visually {border: 0;clip: rect(1px 1px 1px 1px);clip: rect(1px, 1px, 1px, 1px);height: 1px;margin: -1px;overflow: hidden;padding: 0;position: absolute;width: 1px;}#sk-container-id-11 div.sk-estimator {font-family: monospace;background-color: #f0f8ff;border: 1px dotted black;border-radius: 0.25em;box-sizing: border-box;margin-bottom: 0.5em;}#sk-container-id-11 div.sk-estimator:hover {background-color: #d4ebff;}#sk-container-id-11 div.sk-parallel-item::after {content: \"\";width: 100%;border-bottom: 1px solid gray;flex-grow: 1;}#sk-container-id-11 div.sk-label:hover label.sk-toggleable__label {background-color: #d4ebff;}#sk-container-id-11 div.sk-serial::before {content: \"\";position: absolute;border-left: 1px solid gray;box-sizing: border-box;top: 0;bottom: 0;left: 50%;z-index: 0;}#sk-container-id-11 div.sk-serial {display: flex;flex-direction: column;align-items: center;background-color: white;padding-right: 0.2em;padding-left: 0.2em;position: relative;}#sk-container-id-11 div.sk-item {position: relative;z-index: 1;}#sk-container-id-11 div.sk-parallel {display: flex;align-items: stretch;justify-content: center;background-color: white;position: relative;}#sk-container-id-11 div.sk-item::before, #sk-container-id-11 div.sk-parallel-item::before {content: \"\";position: absolute;border-left: 1px solid gray;box-sizing: border-box;top: 0;bottom: 0;left: 50%;z-index: -1;}#sk-container-id-11 div.sk-parallel-item {display: flex;flex-direction: column;z-index: 1;position: relative;background-color: white;}#sk-container-id-11 div.sk-parallel-item:first-child::after {align-self: flex-end;width: 50%;}#sk-container-id-11 div.sk-parallel-item:last-child::after {align-self: flex-start;width: 50%;}#sk-container-id-11 div.sk-parallel-item:only-child::after {width: 0;}#sk-container-id-11 div.sk-dashed-wrapped {border: 1px dashed gray;margin: 0 0.4em 0.5em 0.4em;box-sizing: border-box;padding-bottom: 0.4em;background-color: white;}#sk-container-id-11 div.sk-label label {font-family: monospace;font-weight: bold;display: inline-block;line-height: 1.2em;}#sk-container-id-11 div.sk-label-container {text-align: center;}#sk-container-id-11 div.sk-container {/* jupyter's `normalize.less` sets `[hidden] { display: none; }` but bootstrap.min.css set `[hidden] { display: none !important; }` so we also need the `!important` here to be able to override the default hidden behavior on the sphinx rendered scikit-learn.org. See: https://github.com/scikit-learn/scikit-learn/issues/21755 */display: inline-block !important;position: relative;}#sk-container-id-11 div.sk-text-repr-fallback {display: none;}</style><div id=\"sk-container-id-11\" class=\"sk-top-container\"><div class=\"sk-text-repr-fallback\"><pre>Pipeline(steps=[(&#x27;columntransformer&#x27;,\n",
              "                 ColumnTransformer(transformers=[(&#x27;pipeline&#x27;,\n",
              "                                                  Pipeline(steps=[(&#x27;simpleimputer&#x27;,\n",
              "                                                                   SimpleImputer(strategy=&#x27;most_frequent&#x27;)),\n",
              "                                                                  (&#x27;onehotencoder&#x27;,\n",
              "                                                                   OneHotEncoder(handle_unknown=&#x27;ignore&#x27;))]),\n",
              "                                                  [&#x27;workclass&#x27;, &#x27;occupation&#x27;]),\n",
              "                                                 (&#x27;onehotencoder&#x27;,\n",
              "                                                  OneHotEncoder(handle_unknown=&#x27;ignore&#x27;),\n",
              "                                                  [&#x27;workclass&#x27;, &#x27;occupation&#x27;,\n",
              "                                                   &#x27;marital.status&#x27;,\n",
              "                                                   &#x27;relationship&#x27;,\n",
              "                                                   &#x27;native.country&#x27;]),\n",
              "                                                 (&#x27;standardscaler&#x27;,\n",
              "                                                  StandardScaler(),\n",
              "                                                  [&#x27;age&#x27;, &#x27;capital.gain&#x27;,\n",
              "                                                   &#x27;capital.loss&#x27;,\n",
              "                                                   &#x27;hours.per.week&#x27;])])),\n",
              "                (&#x27;svc&#x27;, SVC())])</pre><b>In a Jupyter environment, please rerun this cell to show the HTML representation or trust the notebook. <br />On GitHub, the HTML representation is unable to render, please try loading this page with nbviewer.org.</b></div><div class=\"sk-container\" hidden><div class=\"sk-item sk-dashed-wrapped\"><div class=\"sk-label-container\"><div class=\"sk-label sk-toggleable\"><input class=\"sk-toggleable__control sk-hidden--visually\" id=\"sk-estimator-id-91\" type=\"checkbox\" ><label for=\"sk-estimator-id-91\" class=\"sk-toggleable__label sk-toggleable__label-arrow\">Pipeline</label><div class=\"sk-toggleable__content\"><pre>Pipeline(steps=[(&#x27;columntransformer&#x27;,\n",
              "                 ColumnTransformer(transformers=[(&#x27;pipeline&#x27;,\n",
              "                                                  Pipeline(steps=[(&#x27;simpleimputer&#x27;,\n",
              "                                                                   SimpleImputer(strategy=&#x27;most_frequent&#x27;)),\n",
              "                                                                  (&#x27;onehotencoder&#x27;,\n",
              "                                                                   OneHotEncoder(handle_unknown=&#x27;ignore&#x27;))]),\n",
              "                                                  [&#x27;workclass&#x27;, &#x27;occupation&#x27;]),\n",
              "                                                 (&#x27;onehotencoder&#x27;,\n",
              "                                                  OneHotEncoder(handle_unknown=&#x27;ignore&#x27;),\n",
              "                                                  [&#x27;workclass&#x27;, &#x27;occupation&#x27;,\n",
              "                                                   &#x27;marital.status&#x27;,\n",
              "                                                   &#x27;relationship&#x27;,\n",
              "                                                   &#x27;native.country&#x27;]),\n",
              "                                                 (&#x27;standardscaler&#x27;,\n",
              "                                                  StandardScaler(),\n",
              "                                                  [&#x27;age&#x27;, &#x27;capital.gain&#x27;,\n",
              "                                                   &#x27;capital.loss&#x27;,\n",
              "                                                   &#x27;hours.per.week&#x27;])])),\n",
              "                (&#x27;svc&#x27;, SVC())])</pre></div></div></div><div class=\"sk-serial\"><div class=\"sk-item sk-dashed-wrapped\"><div class=\"sk-label-container\"><div class=\"sk-label sk-toggleable\"><input class=\"sk-toggleable__control sk-hidden--visually\" id=\"sk-estimator-id-92\" type=\"checkbox\" ><label for=\"sk-estimator-id-92\" class=\"sk-toggleable__label sk-toggleable__label-arrow\">columntransformer: ColumnTransformer</label><div class=\"sk-toggleable__content\"><pre>ColumnTransformer(transformers=[(&#x27;pipeline&#x27;,\n",
              "                                 Pipeline(steps=[(&#x27;simpleimputer&#x27;,\n",
              "                                                  SimpleImputer(strategy=&#x27;most_frequent&#x27;)),\n",
              "                                                 (&#x27;onehotencoder&#x27;,\n",
              "                                                  OneHotEncoder(handle_unknown=&#x27;ignore&#x27;))]),\n",
              "                                 [&#x27;workclass&#x27;, &#x27;occupation&#x27;]),\n",
              "                                (&#x27;onehotencoder&#x27;,\n",
              "                                 OneHotEncoder(handle_unknown=&#x27;ignore&#x27;),\n",
              "                                 [&#x27;workclass&#x27;, &#x27;occupation&#x27;, &#x27;marital.status&#x27;,\n",
              "                                  &#x27;relationship&#x27;, &#x27;native.country&#x27;]),\n",
              "                                (&#x27;standardscaler&#x27;, StandardScaler(),\n",
              "                                 [&#x27;age&#x27;, &#x27;capital.gain&#x27;, &#x27;capital.loss&#x27;,\n",
              "                                  &#x27;hours.per.week&#x27;])])</pre></div></div></div><div class=\"sk-parallel\"><div class=\"sk-parallel-item\"><div class=\"sk-item\"><div class=\"sk-label-container\"><div class=\"sk-label sk-toggleable\"><input class=\"sk-toggleable__control sk-hidden--visually\" id=\"sk-estimator-id-93\" type=\"checkbox\" ><label for=\"sk-estimator-id-93\" class=\"sk-toggleable__label sk-toggleable__label-arrow\">pipeline</label><div class=\"sk-toggleable__content\"><pre>[&#x27;workclass&#x27;, &#x27;occupation&#x27;]</pre></div></div></div><div class=\"sk-serial\"><div class=\"sk-item\"><div class=\"sk-serial\"><div class=\"sk-item\"><div class=\"sk-estimator sk-toggleable\"><input class=\"sk-toggleable__control sk-hidden--visually\" id=\"sk-estimator-id-94\" type=\"checkbox\" ><label for=\"sk-estimator-id-94\" class=\"sk-toggleable__label sk-toggleable__label-arrow\">SimpleImputer</label><div class=\"sk-toggleable__content\"><pre>SimpleImputer(strategy=&#x27;most_frequent&#x27;)</pre></div></div></div><div class=\"sk-item\"><div class=\"sk-estimator sk-toggleable\"><input class=\"sk-toggleable__control sk-hidden--visually\" id=\"sk-estimator-id-95\" type=\"checkbox\" ><label for=\"sk-estimator-id-95\" class=\"sk-toggleable__label sk-toggleable__label-arrow\">OneHotEncoder</label><div class=\"sk-toggleable__content\"><pre>OneHotEncoder(handle_unknown=&#x27;ignore&#x27;)</pre></div></div></div></div></div></div></div></div><div class=\"sk-parallel-item\"><div class=\"sk-item\"><div class=\"sk-label-container\"><div class=\"sk-label sk-toggleable\"><input class=\"sk-toggleable__control sk-hidden--visually\" id=\"sk-estimator-id-96\" type=\"checkbox\" ><label for=\"sk-estimator-id-96\" class=\"sk-toggleable__label sk-toggleable__label-arrow\">onehotencoder</label><div class=\"sk-toggleable__content\"><pre>[&#x27;workclass&#x27;, &#x27;occupation&#x27;, &#x27;marital.status&#x27;, &#x27;relationship&#x27;, &#x27;native.country&#x27;]</pre></div></div></div><div class=\"sk-serial\"><div class=\"sk-item\"><div class=\"sk-estimator sk-toggleable\"><input class=\"sk-toggleable__control sk-hidden--visually\" id=\"sk-estimator-id-97\" type=\"checkbox\" ><label for=\"sk-estimator-id-97\" class=\"sk-toggleable__label sk-toggleable__label-arrow\">OneHotEncoder</label><div class=\"sk-toggleable__content\"><pre>OneHotEncoder(handle_unknown=&#x27;ignore&#x27;)</pre></div></div></div></div></div></div><div class=\"sk-parallel-item\"><div class=\"sk-item\"><div class=\"sk-label-container\"><div class=\"sk-label sk-toggleable\"><input class=\"sk-toggleable__control sk-hidden--visually\" id=\"sk-estimator-id-98\" type=\"checkbox\" ><label for=\"sk-estimator-id-98\" class=\"sk-toggleable__label sk-toggleable__label-arrow\">standardscaler</label><div class=\"sk-toggleable__content\"><pre>[&#x27;age&#x27;, &#x27;capital.gain&#x27;, &#x27;capital.loss&#x27;, &#x27;hours.per.week&#x27;]</pre></div></div></div><div class=\"sk-serial\"><div class=\"sk-item\"><div class=\"sk-estimator sk-toggleable\"><input class=\"sk-toggleable__control sk-hidden--visually\" id=\"sk-estimator-id-99\" type=\"checkbox\" ><label for=\"sk-estimator-id-99\" class=\"sk-toggleable__label sk-toggleable__label-arrow\">StandardScaler</label><div class=\"sk-toggleable__content\"><pre>StandardScaler()</pre></div></div></div></div></div></div></div></div><div class=\"sk-item\"><div class=\"sk-estimator sk-toggleable\"><input class=\"sk-toggleable__control sk-hidden--visually\" id=\"sk-estimator-id-100\" type=\"checkbox\" ><label for=\"sk-estimator-id-100\" class=\"sk-toggleable__label sk-toggleable__label-arrow\">SVC</label><div class=\"sk-toggleable__content\"><pre>SVC()</pre></div></div></div></div></div></div></div>"
            ],
            "text/plain": [
              "Pipeline(steps=[('columntransformer',\n",
              "                 ColumnTransformer(transformers=[('pipeline',\n",
              "                                                  Pipeline(steps=[('simpleimputer',\n",
              "                                                                   SimpleImputer(strategy='most_frequent')),\n",
              "                                                                  ('onehotencoder',\n",
              "                                                                   OneHotEncoder(handle_unknown='ignore'))]),\n",
              "                                                  ['workclass', 'occupation']),\n",
              "                                                 ('onehotencoder',\n",
              "                                                  OneHotEncoder(handle_unknown='ignore'),\n",
              "                                                  ['workclass', 'occupation',\n",
              "                                                   'marital.status',\n",
              "                                                   'relationship',\n",
              "                                                   'native.country']),\n",
              "                                                 ('standardscaler',\n",
              "                                                  StandardScaler(),\n",
              "                                                  ['age', 'capital.gain',\n",
              "                                                   'capital.loss',\n",
              "                                                   'hours.per.week'])])),\n",
              "                ('svc', SVC())])"
            ]
          },
          "execution_count": 91,
          "metadata": {},
          "output_type": "execute_result"
        }
      ],
      "source": [
        "# Task 1:\n",
        "# Defining the best model\n",
        "best_model = SVC(C=1.0)\n",
        "\n",
        "# Creating a pipeline for the best model\n",
        "best_pipeline = make_pipeline(preprocessor, best_model)\n",
        "\n",
        "# Training the model on the entire training set\n",
        "best_pipeline.fit(X_train, y_train)"
      ]
    },
    {
      "cell_type": "code",
      "execution_count": 92,
      "metadata": {
        "id": "VFaJr5tD77Pw"
      },
      "outputs": [
        {
          "name": "stdout",
          "output_type": "stream",
          "text": [
            "Test accuracy with the best model: 0.8488\n"
          ]
        }
      ],
      "source": [
        "# Task 2:\n",
        "# Preparing X_test and y_test\n",
        "X_test = test_df.drop(columns=['income', 'race', 'sex', 'education.num'])\n",
        "y_test = test_df['income']\n",
        "\n",
        "# Predicting and scoring on the test set\n",
        "test_score = best_pipeline.score(X_test, y_test)\n",
        "print(f\"Test accuracy with the best model: {test_score:.4f}\")"
      ]
    },
    {
      "cell_type": "code",
      "execution_count": 93,
      "metadata": {
        "id": "2cMGRSvZp9_s"
      },
      "outputs": [
        {
          "name": "stdout",
          "output_type": "stream",
          "text": [
            "Mean cross-validation accuracy with the best model: 0.8499\n",
            "The cross-validation results and test results are consistent.\n"
          ]
        }
      ],
      "source": [
        "# Task 3:\n",
        "# Extracting mean cross-validation accuracy for the best model\n",
        "cv_accuracy = mean_accuracies['SVC_C_1.0']\n",
        "\n",
        "print(f\"Mean cross-validation accuracy with the best model: {cv_accuracy:.4f}\")\n",
        "\n",
        "# Comparing CV results with test results\n",
        "difference = test_score - cv_accuracy\n",
        "if abs(difference) < 0.02:  # Assuming a threshold of 2% for consistency\n",
        "    print(\"The cross-validation results and test results are consistent.\")\n",
        "else:\n",
        "    print(\"The cross-validation results and test results are not consistent.\")\n",
        "\n",
        "# Answer:"
      ]
    },
    {
      "cell_type": "markdown",
      "metadata": {
        "id": "H9DHCgy7Dfls"
      },
      "source": [
        "## Submission instructions \n",
        "\n",
        "**PLEASE READ:** When you are ready to submit your assignment do the following:\n",
        "\n",
        "1. Run all cells in your notebook to make sure there are no errors by doing `Kernel -> Restart Kernel and Clear All Outputs` and then `Run -> Run All Cells`.\n",
        "2. Notebooks with cell execution numbers out of order will have marks deducted. Notebooks without the output displayed may not be graded at all (because we need to see the output in order to grade your work).\n",
        "3. Please keep your notebook clean and delete any throwaway code."
      ]
    }
  ],
  "metadata": {
    "celltoolbar": "Create Assignment",
    "colab": {
      "collapsed_sections": [],
      "provenance": []
    },
    "kernelspec": {
      "display_name": "Python 3.7.7 ('base')",
      "language": "python",
      "name": "python3"
    },
    "language_info": {
      "codemirror_mode": {
        "name": "ipython",
        "version": 3
      },
      "file_extension": ".py",
      "mimetype": "text/x-python",
      "name": "python",
      "nbconvert_exporter": "python",
      "pygments_lexer": "ipython3",
      "version": "3.10.11"
    },
    "vscode": {
      "interpreter": {
        "hash": "74864006475560d55db2f16790ed02bd14eca518a5bb693f0e32a0ca4b797964"
      }
    }
  },
  "nbformat": 4,
  "nbformat_minor": 0
}
