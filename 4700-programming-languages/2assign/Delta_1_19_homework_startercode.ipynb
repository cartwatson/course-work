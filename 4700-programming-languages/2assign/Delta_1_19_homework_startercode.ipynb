{
  "nbformat": 4,
  "nbformat_minor": 0,
  "metadata": {
    "colab": {
      "provenance": []
    },
    "kernelspec": {
      "name": "python3",
      "display_name": "Python 3"
    },
    "language_info": {
      "name": "python"
    }
  },
  "cells": [
    {
      "cell_type": "code",
      "source": [
        "# <exp> ::= 0 | 1 | 2\n",
        "# <exp> ::= '👍' | '👎'\n",
        "# <exp> ::= (<Operator> <exp> <exp>)\n",
        "# <exp> ::= ('|' <exp> <exp) | ('&' <exp> <exp>) | ('❗' <exp>)\n",
        "# <numericalOperator> ::= '+' | '-' | '*' | '/'\n",
        "# <booleanOperator> ::= '|' | '&' | '❗' "
      ],
      "metadata": {
        "id": "I1LrKz9I2r1t"
      },
      "execution_count": null,
      "outputs": []
    },
    {
      "cell_type": "code",
      "source": [
        "def tokenize(string):\n",
        "  #inputs a string containing a Delta expression\n",
        "  #returns a list of atoms of the language\n",
        "  return string.replace('(', ' ( ').replace(')', ' )').split()\n",
        "\n",
        "def parse(tokenList):\n",
        "  #inputs a list of tokens\n",
        "  #returns a parse tree, represented as a nested list structure\n",
        "  token = tokenList.pop(0)\n",
        "  if token[0].isdigit():\n",
        "    return int(token)\n",
        "  # just a terminal\n",
        "  if token[0] != '(':\n",
        "    return token\n",
        "  #  <exp> can be (<operator> <exp>) or (<operator> <exp> <exp>) or (<operator> followed by any number of expressions\n",
        "  ans = [tokenList.pop(0)]\n",
        "  while tokenList[0] != ')':\n",
        "    ans.append(parse(tokenList)) \n",
        "  tokenList.pop(0) # to get rid of the ')'\n",
        "  return ans\n",
        "\n",
        "# print(parse(tokenize(deltaCode)))\n",
        "\n",
        "#check that the parentheses balance\n",
        "def balanced(tokenList):\n",
        "  count = 0\n",
        "  for token in tokenList:\n",
        "    if token == '(':\n",
        "      count+= 1\n",
        "    if token == ')':\n",
        "      count-= 1\n",
        "    if count < 0:\n",
        "      return False\n",
        "  return count == 0\n",
        "\n",
        "# print(balanced(tokenize(deltaCode)))\n",
        "\n",
        "def prettyPrint(exp, depth = 0):\n",
        "  if isinstance(exp,int):\n",
        "    print(\" \"*3*depth + str(exp))\n",
        "  else:\n",
        "    print(\" \"*3*depth + \"(\" + str(exp[0]))\n",
        "    prettyPrint(exp[1], depth+1)\n",
        "    prettyPrint(exp[2], depth+1)\n",
        "    print(\" \"*3*depth + \")\")\n",
        "\n",
        "# prettyPrint(parse(tokenize(deltaCode)))\n",
        "\n",
        "def run(program):\n",
        "  # input string, output the execution of the Delta program\n",
        "  return evalDelta(parse(tokenize(program)))\n",
        "\n",
        "def evalDelta(exp):\n",
        "  if isinstance(exp, int):\n",
        "    return exp\n",
        "  if exp == '👍':\n",
        "    return True\n",
        "  if exp == '👎':\n",
        "    return False\n",
        "  if exp[0] == '❗':\n",
        "    return not evalDelta(exp[1])\n",
        "  if exp[0] == '|':\n",
        "    return evalDelta(exp[1]) or evalDelta(exp[2])\n",
        "  if exp[0] == '&':\n",
        "    return evalDelta(exp[1]) and evalDelta(exp[2])\n",
        "  #know [<operator> <exp> <exp>]\n",
        "  if exp[0] == '+':\n",
        "    return evalDelta(exp[1]) + evalDelta(exp[2])\n",
        "  if exp[0] == '-':\n",
        "    return evalDelta(exp[1]) - evalDelta(exp[2])\n",
        "  if exp[0] == '/':\n",
        "    return evalDelta(exp[1]) // evalDelta(exp[2])\n",
        "  if exp[0] == '*':\n",
        "    return evalDelta(exp[1]) * evalDelta(exp[2])\n",
        "  if exp[0] == '==':\n",
        "    'FILL IN'\n",
        "  if exp[0] == '<':\n",
        "    'FILL IN'\n",
        "  if exp[0] == 'if':\n",
        "    'FILL IN'\n",
        "\n",
        "# random program genereator\n",
        "def randPG('FILL IN'):\n",
        "  'FILL IN'\n"
      ],
      "metadata": {
        "id": "FgUwmLebsbid"
      },
      "execution_count": null,
      "outputs": []
    },
    {
      "cell_type": "code",
      "source": [
        "deltaCode = \"(* 89 80)\"\n",
        "print(run(deltaCode))"
      ],
      "metadata": {
        "colab": {
          "base_uri": "https://localhost:8080/"
        },
        "id": "j-ErcWGv2DbN",
        "outputId": "aa31f9ed-55cf-45d0-d137-44c8a73d03f6"
      },
      "execution_count": null,
      "outputs": [
        {
          "output_type": "stream",
          "name": "stdout",
          "text": [
            "7120\n"
          ]
        }
      ]
    }
  ]
}